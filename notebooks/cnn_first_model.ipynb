{
 "cells": [
  {
   "cell_type": "markdown",
   "metadata": {},
   "source": [
    "A program that reads and processes images for a Convolutional Neural Network (CNN) to classify as images as good or bad."
   ]
  },
  {
   "cell_type": "code",
   "execution_count": null,
   "metadata": {},
   "outputs": [],
   "source": [
    "import numpy as np\n",
    "import pandas as pd\n",
    "import os\n",
    "from glob import glob\n",
    "import matplotlib.pyplot as plt\n",
    "%matplotlib inline\n",
    "import cv2\n",
    "\n",
    "from keras.models import Sequential\n",
    "from keras.layers.core import Dense, Dropout, Activation, Flatten\n",
    "from keras.layers.convolutional import Convolution2D, MaxPooling2D, ZeroPadding2D\n",
    "from keras.utils import np_utils\n",
    "from keras import optimizers\n",
    "from keras.callbacks import ModelCheckpoint, Callback, EarlyStopping\n",
    "from keras.models import load_model"
   ]
  },
  {
   "cell_type": "code",
   "execution_count": null,
   "metadata": {},
   "outputs": [],
   "source": [
    "df = pd.read_csv('')"
   ]
  },
  {
   "cell_type": "code",
   "execution_count": null,
   "metadata": {},
   "outputs": [],
   "source": [
    "def read_images(paths): \n",
    "    \"\"\"\n",
    "    Reads in all images and returns list of picture id numbers based on the image name\n",
    "    \n",
    "    Parameters\n",
    "    ----------\n",
    "    paths : string\n",
    "    \n",
    "    Returns\n",
    "    ----------\n",
    "    images and list of id numbers\n",
    "    \"\"\"\n",
    "    #Get list of images\n",
    "    images = (glob(paths + '*.jpg'))\n",
    "    #Read images from list\n",
    "    data = [cv2.imread(file) for file in images]\n",
    "    #Separates name of image from path\n",
    "    names = [os.path.split(file)[1] for file in images]\n",
    "    #Separates first part of image name from .jpg to get id number\n",
    "    id_num = [int(file.split('.')[0]) for file in names]\n",
    "    \n",
    "    return images, id_num"
   ]
  },
  {
   "cell_type": "code",
   "execution_count": null,
   "metadata": {},
   "outputs": [],
   "source": [
    "def cnn_layers(input_size):\n",
    "    \"\"\"\n",
    "    Builds layers of Convolutional Neural Net\n",
    "    \n",
    "    Parameters\n",
    "    -----------\n",
    "    input_size = tuple\n",
    "    \n",
    "    Returns\n",
    "    -----------\n",
    "    model\n",
    "    \"\"\"\n",
    "    model = Sequential()\n",
    "        \n",
    "    #first convolutional layer and pooling\n",
    "    model.add(ZeroPadding2D((1, 1)))\n",
    "    model.add(Convolution2D(32, 3, 3, border_mode='valid', input_shape=(input_size), activation='relu'))\n",
    "    model.add(MaxPooling2D(pool_size=(2, 2)))\n",
    "    \n",
    "    #second convolutional layer and pooling\n",
    "    model.add(ZeroPadding2D((1, 1)))\n",
    "    model.add(Convolution2D(64, 3, 3, border_mode='valid', input_shape=(input_size), activation='relu'))\n",
    "    model.add(MaxPooling2D(pool_size=(2, 2)))\n",
    "    \n",
    "    #flatten images\n",
    "    model.add(Flatten())\n",
    "    \n",
    "    #first dense layer\n",
    "    model.add(Dense(2048, init='glorot_normal'))\n",
    "    model.add(Activation('relu'))\n",
    "    model.add(Dropout(0.5))\n",
    "    \n",
    "    #second dense layer\n",
    "    model.add(Dense(2048, init='glorot_normal'))\n",
    "    model.add(Activation('relu'))\n",
    "    model.add(Dropout(0.5))\n",
    "    \n",
    "    return model  "
   ]
  },
  {
   "cell_type": "code",
   "execution_count": null,
   "metadata": {},
   "outputs": [],
   "source": [
    "def implement_cnn(model, x_train, y_train, x_test, y_test, batch_size = 4, nb_classes = 2, nb_epoch = 40)\n",
    "    \"\"\"\n",
    "    Fits model to the data\n",
    "    \n",
    "    Parameters\n",
    "    ------------\n",
    "    x_train = array\n",
    "    x_test = array\n",
    "    y_train = data frame or array\n",
    "    y_test = data frame or array\n",
    "    batch_size = integer\n",
    "    nb_classes = integer\n",
    "    nb_epoch = integer\n",
    "    \n",
    "    Returns\n",
    "    ------------\n",
    "    model metrics\n",
    "    \"\"\"\n",
    "    #initializes optimizer SGD\n",
    "    #need to see which learning rate (lr) achieves best results\n",
    "    sgd = optimizers.SGD(lr=0.005, decay=le-6, momentum=0.9, nesterov=True)\n",
    "    model.compile(loss='categorical_crossentropy', optimizer=sgd)\n",
    "    \n",
    "    #early stopping batch = x_train, y_train, x_test, y_test\n",
    "    #need to experiment with patience \n",
    "    early_stopping = EarlyStopping(monitor='val_loss', patience=7, verbose=1, mode='auto')\n",
    "    \n",
    "    checkpointer = ModelCheckpoint(filepath=('checkpoint.hdf5'), verbose=1, save_best+only=True)\n",
    "    \n",
    "    hist = callbacks.History()\n",
    "    \n",
    "    model.fit(x_train, y_train, verbose=2, callbacks = [early_stopping, checkpointer, hist], batch_size=batch_size, nb_epoch=nb_epoch, validation_data=(x_test, y_test), steps_per_epoch=10)\n",
    "    \n",
    "    return model.evaluate(x_train, y_train, verbose=2)"
   ]
  }
 ],
 "metadata": {
  "kernelspec": {
   "display_name": "Python 3",
   "language": "python",
   "name": "python3"
  },
  "language_info": {
   "codemirror_mode": {
    "name": "ipython",
    "version": 3
   },
   "file_extension": ".py",
   "mimetype": "text/x-python",
   "name": "python",
   "nbconvert_exporter": "python",
   "pygments_lexer": "ipython3",
   "version": "3.6.5"
  }
 },
 "nbformat": 4,
 "nbformat_minor": 2
}
