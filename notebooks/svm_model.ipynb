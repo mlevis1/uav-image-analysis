{
 "cells": [
  {
   "cell_type": "markdown",
   "metadata": {},
   "source": [
    "A program that reads and processes images for a Support Vector Machine (SVM) to classify as images as good or bad."
   ]
  },
  {
   "cell_type": "code",
   "execution_count": 1,
   "metadata": {},
   "outputs": [
    {
     "name": "stderr",
     "output_type": "stream",
     "text": [
      "C:\\Users\\micha\\Anaconda3\\lib\\site-packages\\sklearn\\ensemble\\weight_boosting.py:29: DeprecationWarning: numpy.core.umath_tests is an internal NumPy module and should not be imported. It will be removed in a future NumPy release.\n",
      "  from numpy.core.umath_tests import inner1d\n"
     ]
    }
   ],
   "source": [
    "import numpy as np\n",
    "import pandas as pd\n",
    "import os\n",
    "from glob import glob\n",
    "import matplotlib.pyplot as plt\n",
    "%matplotlib inline\n",
    "import cv2\n",
    "\n",
    "from sklearn.model_selection import train_test_split\n",
    "from sklearn.ensemble import RandomForestClassifier, GradientBoostingClassifier\n",
    "from sklearn import linear_model\n",
    "from sklearn import svm\n",
    "from sklearn.metrics import classification_report\n",
    "from sklearn.metrics import accuracy_score\n",
    "from sklearn.metrics import confusion_matrix"
   ]
  },
  {
   "cell_type": "code",
   "execution_count": 2,
   "metadata": {},
   "outputs": [],
   "source": [
    "def read_images(paths): \n",
    "    \"\"\"\n",
    "    Reads in all images and returns list of picture id numbers based on the image name\n",
    "    \n",
    "    Parameters\n",
    "    ----------\n",
    "    paths : string\n",
    "    \n",
    "    Returns\n",
    "    ----------\n",
    "    images and list of id numbers\n",
    "    \"\"\"\n",
    "    import numpy as np\n",
    "    # Get list of images\n",
    "    images = (glob(paths + '*.jpg'))\n",
    "    # Read images from list\n",
    "    data = [cv2.cvtColor(cv2.imread(file),cv2.COLOR_BGR2GRAY) for file in images]\n",
    "    data = np.array(data)\n",
    "    data = data.reshape((len(data),-1))\n",
    "    \n",
    "    print(data.shape)\n",
    "    return data"
   ]
  },
  {
   "cell_type": "code",
   "execution_count": 3,
   "metadata": {},
   "outputs": [],
   "source": [
    "def svm_layers(X_train, y_train, X_test, y_test):\n",
    "    \"\"\"\n",
    "    Builds layers of Support Vector Machine\n",
    "    Fits model to the data\n",
    "    \n",
    "    Parameters\n",
    "    ------------\n",
    "    X_train = array\n",
    "    X_test = array\n",
    "    y_train = data frame or array\n",
    "    y_test = data frame or array\n",
    "       \n",
    "    Returns\n",
    "    ------------\n",
    "    model metrics evaluation\n",
    "    \"\"\"\n",
    "    \n",
    "    model = svm.SVC(gamma=0.001)\n",
    "    model.fit(X_train,y_train)\n",
    "    y_pred = model.predict(X_test)\n",
    "    print(classification_report(y_test,y_pred))\n",
    "    accuracy = accuracy_score(y_test,y_pred)\n",
    "    \n",
    "    return model,accuracy"
   ]
  },
  {
   "cell_type": "code",
   "execution_count": 4,
   "metadata": {},
   "outputs": [],
   "source": [
    "def supervised_models(model, X_train, y_train):\n",
    "    \"\"\"\n",
    "    Fits supervised models to data and returns metrics\n",
    "    \n",
    "    Parameters\n",
    "    ------------\n",
    "    model = supervised learning model\n",
    "    X_train = array\n",
    "    y_train = data frame or array\n",
    "       \n",
    "    Returns\n",
    "    ------------\n",
    "    model metrics evaluation\n",
    "    \"\"\"\n",
    "    \n",
    "    model = model\n",
    "    model.fit(X_train, y_train)\n",
    "    probabilities = model.predict_proba(X_test)[:,1]\n",
    "    y_pred = model.predict(X_test)\n",
    "    \n",
    "    print(classification_report(y_test,y_pred))\n",
    "\n",
    "    return model, probabilities, y_pred"
   ]
  },
  {
   "cell_type": "code",
   "execution_count": 5,
   "metadata": {},
   "outputs": [
    {
     "name": "stdout",
     "output_type": "stream",
     "text": [
      "(424, 327680)\n",
      "  Image Date     MEDIA Image_Name  Label Unnamed: 4\n",
      "0  2/16/2019  100MEDIA   DJI_0001      2        NaN\n",
      "1  2/16/2019  100MEDIA   DJI_0002      2        NaN\n",
      "2  2/16/2019  100MEDIA   DJI_0003      2        NaN\n",
      "3  2/16/2019  100MEDIA   DJI_0004      2        NaN\n",
      "4  2/16/2019  100MEDIA   DJI_0005      2        NaN\n",
      "(339, 327680)\n",
      "[0 0 0 0 0 0 3 3 0 0 2 0 0 3 0 0 0 0 0 0 2 0 0 0 0 0 0 0 0 0 3 0 2 3 0 0 0\n",
      " 0 0 0 2 0 0 0 0 3 0 2 0 0 2 0 0 0 0 0 0 0 0 3 3 0 0 0 3 0 0 0 0 0 0 0 0 0\n",
      " 0 0 0 0 0 0 0 0 0 0 0 0 0 0 0 0 0 0 0 0 0 3 0 0 0 0 2 2 0 0 0 0 0 2 0 0 0\n",
      " 0 0 0 0 0 0 0 2 0 0 0 0 0 3 0 2 0 1 0 0 1 3 0 0 0 3 0 0 0 0 0 0 0 0 0 0 0\n",
      " 0 0 0 0 1 0 0 0 0 0 3 1 0 0 0 1 3 0 0 2 3 0 0 0 0 0 0 0 0 0 1 0 0 0 0 2 0\n",
      " 0 0 0 0 0 0 0 0 0 0 0 0 0 0 0 0 0 0 0 0 0 0 0 2 0 0 0 0 2 0 0 0 0 2 0 0 0\n",
      " 0 0 0 0 0 0 0 0 0 0 0 0 1 0 0 0 0 0 0 0 0 0 1 0 0 0 0 3 0 0 0 0 0 0 0 0 0\n",
      " 0 2 0 3 0 0 0 0 3 0 0 0 0 0 2 3 0 0 0 0 0 0 0 0 0 0 0 0 0 0 0 0 0 2 0 0 3\n",
      " 3 0 2 0 0 0 0 2 0 0 0 3 3 0 0 0 0 0 0 0 0 0 0 0 3 0 0 0 2 0 0 0 0 0 0 2 2\n",
      " 0 0 0 0 0 0]\n"
     ]
    }
   ],
   "source": [
    "df_train = pd.read_csv('/Users/micha/ea-applications/data/test-images.csv')\n",
    "\n",
    "paths = '/Users/micha/ea-applications/data/training-test-images/Thermal/mytest/*MEDIA/'\n",
    "\n",
    "train_images = read_images(paths)\n",
    "\n",
    "y = np.array(df_train['Label'])\n",
    "\n",
    "y = df_train['Label'].values\n",
    "\n",
    "X_train, X_test, y_train, y_test = train_test_split(train_images, y, random_state=42, test_size=0.2)\n",
    "\n",
    "print(df_train.head())\n",
    "print(X_train.shape)\n",
    "print(y_train)"
   ]
  },
  {
   "cell_type": "code",
   "execution_count": 6,
   "metadata": {},
   "outputs": [
    {
     "name": "stdout",
     "output_type": "stream",
     "text": [
      "             precision    recall  f1-score   support\n",
      "\n",
      "          0       0.78      1.00      0.87        66\n",
      "          1       0.00      0.00      0.00         1\n",
      "          2       0.00      0.00      0.00         9\n",
      "          3       0.00      0.00      0.00         9\n",
      "\n",
      "avg / total       0.60      0.78      0.68        85\n",
      "\n",
      "0.7764705882352941\n"
     ]
    },
    {
     "name": "stderr",
     "output_type": "stream",
     "text": [
      "C:\\Users\\micha\\Anaconda3\\lib\\site-packages\\sklearn\\metrics\\classification.py:1135: UndefinedMetricWarning: Precision and F-score are ill-defined and being set to 0.0 in labels with no predicted samples.\n",
      "  'precision', 'predicted', average, warn_for)\n"
     ]
    }
   ],
   "source": [
    "# Run svm model\n",
    "svm_model, metrics = svm_layers(X_train, y_train, X_test, y_test)\n",
    "print(metrics)"
   ]
  },
  {
   "cell_type": "code",
   "execution_count": 7,
   "metadata": {},
   "outputs": [
    {
     "name": "stdout",
     "output_type": "stream",
     "text": [
      "             precision    recall  f1-score   support\n",
      "\n",
      "          0       0.85      0.85      0.85        66\n",
      "          1       0.00      0.00      0.00         1\n",
      "          2       0.36      0.56      0.43         9\n",
      "          3       0.20      0.11      0.14         9\n",
      "\n",
      "avg / total       0.72      0.73      0.72        85\n",
      "\n",
      "[7.11081697e-06 1.19368459e-14 4.60216062e-04 2.66326016e-03\n",
      " 5.22833161e-11 3.75572768e-07 7.38848482e-05 5.13514129e-07\n",
      " 6.95597250e-15 3.91478972e-14 4.40296495e-10 1.19485212e-04\n",
      " 1.46182724e-11 4.11913008e-08 1.08650880e-15 6.87529809e-12\n",
      " 3.18593885e-12 4.55304852e-18 4.73956060e-09 4.52919993e-14\n",
      " 7.65369743e-08 5.81860631e-09 3.89081806e-07 5.30926412e-18\n",
      " 4.49080374e-10 1.18462469e-01 1.01696531e-07 2.32750430e-03\n",
      " 1.76647938e-07 5.79262054e-06 5.78933978e-06 1.05117032e-01\n",
      " 1.88665106e-13 3.39000065e-13 1.19181851e-14 1.46332148e-08\n",
      " 3.33981684e-13 1.38720040e-12 1.65590647e-09 2.03383239e-14\n",
      " 5.36137477e-09 2.21860695e-07 3.10955411e-15 7.15152220e-10\n",
      " 9.74656136e-06 7.40557369e-16 1.20432881e-16 2.94458357e-05\n",
      " 3.29071737e-15 3.83323099e-13 3.30972818e-04 3.98876350e-04\n",
      " 6.81146088e-12 6.42536557e-08 1.51880423e-13 6.20554544e-05\n",
      " 2.06230407e-03 3.24648963e-05 3.38474976e-01 3.65200172e-04\n",
      " 3.13277970e-18 1.11328545e-06 6.27211867e-15 1.30510732e-05\n",
      " 3.56974855e-07 1.67252841e-09 4.74996230e-08 1.44963364e-06\n",
      " 4.91731015e-06 1.43399633e-09 8.71753692e-04 5.41856074e-08\n",
      " 6.45014247e-10 1.62541801e-11 1.18395865e-11 3.14936309e-06\n",
      " 6.38264722e-04 9.28591642e-05 7.94764334e-14 5.50868448e-14\n",
      " 5.97096469e-11 7.89122490e-13 8.84067543e-06 2.52085534e-08\n",
      " 2.60703016e-12]\n"
     ]
    },
    {
     "name": "stderr",
     "output_type": "stream",
     "text": [
      "C:\\Users\\micha\\Anaconda3\\lib\\site-packages\\sklearn\\metrics\\classification.py:1135: UndefinedMetricWarning: Precision and F-score are ill-defined and being set to 0.0 in labels with no predicted samples.\n",
      "  'precision', 'predicted', average, warn_for)\n"
     ]
    }
   ],
   "source": [
    "# Run logistic regression model\n",
    "model = linear_model.LogisticRegression()\n",
    "model_logistic, probabilities, y_pred = supervised_models(model, X_train, y_train)\n",
    "print(probabilities)"
   ]
  },
  {
   "cell_type": "code",
   "execution_count": 8,
   "metadata": {},
   "outputs": [
    {
     "name": "stdout",
     "output_type": "stream",
     "text": [
      "             precision    recall  f1-score   support\n",
      "\n",
      "          0       0.84      0.97      0.90        66\n",
      "          1       1.00      1.00      1.00         1\n",
      "          2       0.86      0.67      0.75         9\n",
      "          3       0.00      0.00      0.00         9\n",
      "\n",
      "avg / total       0.76      0.84      0.79        85\n",
      "\n",
      "[0.  0.  0.  0.  0.  0.  0.  0.  0.  0.  0.  0.  0.  0.  0.  0.  0.  0.\n",
      " 0.  0.  0.  0.  0.  0.  0.  0.1 0.  0.9 0.  0.  0.  0.  0.  0.  0.  0.\n",
      " 0.  0.  0.  0.  0.  0.1 0.  0.  0.  0.  0.  0.  0.  0.  0.  0.  0.  0.\n",
      " 0.  0.  0.  0.  0.1 0.1 0.  0.  0.  0.  0.1 0.  0.  0.  0.  0.  0.1 0.\n",
      " 0.  0.  0.  0.  0.  0.  0.  0.  0.  0.  0.  0.  0. ]\n"
     ]
    }
   ],
   "source": [
    "# Run random forest classifier\n",
    "model = RandomForestClassifier()\n",
    "model_logistic, probabilities, y_pred = supervised_models(model, X_train, y_train)\n",
    "print(probabilities)"
   ]
  },
  {
   "cell_type": "code",
   "execution_count": 9,
   "metadata": {},
   "outputs": [
    {
     "name": "stdout",
     "output_type": "stream",
     "text": [
      "             precision    recall  f1-score   support\n",
      "\n",
      "          0       0.86      1.00      0.92        66\n",
      "          1       1.00      1.00      1.00         1\n",
      "          2       1.00      0.78      0.88         9\n",
      "          3       0.00      0.00      0.00         9\n",
      "\n",
      "avg / total       0.78      0.87      0.82        85\n",
      "\n",
      "[2.78564873e-05 2.57362422e-05 7.58881419e-05 1.80237534e-04\n",
      " 1.79025223e-04 2.57362422e-05 2.57362422e-05 2.57362422e-05\n",
      " 2.15356210e-05 2.40026257e-05 2.57362422e-05 2.57221071e-05\n",
      " 2.57232920e-05 2.34828602e-05 1.18350505e-04 1.75839684e-06\n",
      " 2.79460244e-05 2.57344518e-05 2.57362422e-05 2.57298142e-05\n",
      " 2.57362422e-05 2.57362422e-05 1.29895795e-04 2.57334074e-05\n",
      " 2.57349572e-05 9.26537622e-04 2.57362422e-05 9.44828337e-01\n",
      " 2.56638914e-05 2.57362422e-05 2.57362422e-05 2.57362422e-05\n",
      " 2.57362422e-05 2.57362422e-05 2.49467238e-05 2.82998303e-05\n",
      " 2.57362422e-05 2.57087146e-05 3.22956717e-05 3.27531140e-05\n",
      " 2.57362422e-05 3.88167368e-05 4.86779714e-05 2.57352167e-05\n",
      " 2.57362422e-05 2.57344518e-05 2.81669585e-05 2.57306133e-05\n",
      " 2.57334074e-05 2.57280331e-05 2.57362422e-05 1.31656898e-04\n",
      " 2.35395374e-06 1.11415482e-04 2.77492656e-05 2.57362422e-05\n",
      " 2.57298142e-05 2.57362422e-05 4.68508267e-05 1.11188125e-04\n",
      " 4.53634974e-05 2.57362422e-05 2.57362422e-05 2.57362422e-05\n",
      " 7.74116201e-05 9.22495007e-05 3.06215379e-05 2.57347051e-05\n",
      " 7.74232490e-05 2.57362422e-05 3.07997631e-05 1.49626852e-04\n",
      " 2.57347051e-05 2.57362422e-05 8.49534657e-05 3.90203151e-05\n",
      " 6.81368653e-04 2.57280331e-05 7.94189349e-05 8.77006160e-06\n",
      " 2.57322999e-05 2.57141659e-06 2.57362422e-05 3.90335382e-05\n",
      " 2.80042046e-05]\n"
     ]
    },
    {
     "name": "stderr",
     "output_type": "stream",
     "text": [
      "C:\\Users\\micha\\Anaconda3\\lib\\site-packages\\sklearn\\metrics\\classification.py:1135: UndefinedMetricWarning: Precision and F-score are ill-defined and being set to 0.0 in labels with no predicted samples.\n",
      "  'precision', 'predicted', average, warn_for)\n"
     ]
    }
   ],
   "source": [
    "# Run gradient boosting classifier\n",
    "model = GradientBoostingClassifier()\n",
    "model_boosting, probabilities, y_pred = supervised_models(model, X_train, y_train)\n",
    "print(probabilities)"
   ]
  },
  {
   "cell_type": "code",
   "execution_count": null,
   "metadata": {},
   "outputs": [],
   "source": []
  }
 ],
 "metadata": {
  "kernelspec": {
   "display_name": "Python 3",
   "language": "python",
   "name": "python3"
  },
  "language_info": {
   "codemirror_mode": {
    "name": "ipython",
    "version": 3
   },
   "file_extension": ".py",
   "mimetype": "text/x-python",
   "name": "python",
   "nbconvert_exporter": "python",
   "pygments_lexer": "ipython3",
   "version": "3.6.5"
  }
 },
 "nbformat": 4,
 "nbformat_minor": 2
}
