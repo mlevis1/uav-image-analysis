{
 "cells": [
  {
   "cell_type": "markdown",
   "metadata": {},
   "source": [
    "A program that reads and processes images for a Convolutional Neural Network (CNN) to classify as images as good or bad."
   ]
  },
  {
   "cell_type": "code",
   "execution_count": null,
   "metadata": {},
   "outputs": [],
   "source": [
    "import numpy as np\n",
    "import pandas as pd\n",
    "import os\n",
    "from glob import glob\n",
    "import matplotlib.pyplot as plt\n",
    "%matplotlib inline\n",
    "import cv2\n",
    "\n",
    "from keras.models import Sequential\n",
    "from keras.layers.core import Dense, Dropout, Activation, Flatten\n",
    "from keras.layers.convolutional import Convolution2D, MaxPooling2D, ZeroPadding2D\n",
    "from keras.utils import np_utils\n",
    "from keras import optimizers\n",
    "from keras import callbacks\n",
    "from keras.models import load_model\n",
    "from keras.utils import to_categorical\n",
    "from sklearn.model_selection import train_test_split\n"
   ]
  },
  {
   "cell_type": "code",
   "execution_count": null,
   "metadata": {},
   "outputs": [],
   "source": [
    "def read_images(paths): \n",
    "    \"\"\"\n",
    "    Reads in all images and returns list of picture id numbers based on the image name\n",
    "    \n",
    "    Parameters\n",
    "    ----------\n",
    "    paths : string\n",
    "    \n",
    "    Returns\n",
    "    ----------\n",
    "    images and list of id numbers\n",
    "    \"\"\"\n",
    "    # Get list of images\n",
    "    images = (glob(paths + '*.jpg'))\n",
    "    # Read images from list\n",
    "    data = [cv2.imread(file) for file in images]\n",
    "\n",
    "    return data"
   ]
  },
  {
   "cell_type": "code",
   "execution_count": null,
   "metadata": {},
   "outputs": [],
   "source": [
    "def process_images(images, size = 60):\n",
    "    \"\"\"\n",
    "    Import image at 'paths', center and crop to size\n",
    "    Code from https://github.com/jameslawlor/kaggle_galaxy_zoo/blob/master/galaxy_zoo_keras.ipynb\n",
    "    \"\"\"\n",
    "\n",
    "    count = len(images)\n",
    "    arr = np.zeros(shape=(count,size,size,3))\n",
    "    for i in range(count):\n",
    "        img = images[i]\n",
    "        img = img.T[:,106:106*3,106:106*3] # Crop 424x424x3 to 212x212x3\n",
    "        img = imresize(img,size=(size,size,3),interp=\"cubic\") # Shrink size to make easier to compute\n",
    "        arr[i] = img\n",
    "\n",
    "    return arr.astype(int)"
   ]
  },
  {
   "cell_type": "code",
   "execution_count": null,
   "metadata": {},
   "outputs": [],
   "source": [
    "def cnn_layers(X_train, y_train, X_test, y_test, batch_size = 4, nb_classes = 2, nb_epoch = 20, input_size = (60,60, 3)):\n",
    "    \"\"\"\n",
    "    Builds layers of Convolutional Neural Net\n",
    "    Fits model to the data\n",
    "    \n",
    "    Parameters\n",
    "    ------------\n",
    "    X_train = array\n",
    "    X_test = array\n",
    "    y_train = data frame or array\n",
    "    y_test = data frame or array\n",
    "    batch_size = integer\n",
    "    nb_classes = integer\n",
    "    nb_epoch = integer\n",
    "    input_size = list\n",
    "    \n",
    "    Returns\n",
    "    ------------\n",
    "    model metrics evaluation\n",
    "    \"\"\"\n",
    "    \n",
    "    model = Sequential()\n",
    "\n",
    "    # First convolutional layer and pooling\n",
    "    model.add(ZeroPadding2D((1, 1)))\n",
    "    model.add(Convolution2D(32, 3, 3, border_mode='valid', input_shape=(input_size), activation='relu'))\n",
    "    model.add(MaxPooling2D(pool_size=(2, 2)))\n",
    "    \n",
    "    # Second convolutional layer and pooling\n",
    "    model.add(ZeroPadding2D((1, 1)))\n",
    "    model.add(Convolution2D(32, 3, 3, border_mode='valid', input_shape=(input_size), activation='relu'))\n",
    "    model.add(MaxPooling2D(pool_size=(2, 2)))\n",
    "    \n",
    "    # Flatten images\n",
    "    model.add(Flatten())\n",
    "    \n",
    "    # First dense layer\n",
    "    model.add(Dense(32, init='glorot_normal'))\n",
    "    model.add(Activation('relu'))\n",
    "    model.add(Dropout(0.5))\n",
    "    \n",
    "    # Second dense layer\n",
    "    model.add(Dense(32, init='glorot_normal'))\n",
    "    model.add(Activation('relu'))\n",
    "    model.add(Dropout(0.5))\n",
    "    \n",
    "    # Output layer\n",
    "    model.add(Dense(nb_classes, init='glorot_normal'))\n",
    "    model.add(Activation('softmax'))\n",
    "    \n",
    "    # Initializes optimizer SGD\n",
    "    # Need to see which learning rate (lr) achieves best results\n",
    "    sgd = optimizers.SGD(lr=0.005, decay=1e-6, momentum=0.9, nesterov=True)\n",
    "    model.compile(loss='categorical_crossentropy', optimizer=sgd, metrics=[\"accuracy\"])\n",
    "    \n",
    "    # Early stopping batch = X_train, y_train, X_test, y_test\n",
    "    # Need to experiment with patience \n",
    "    early_stopping = callbacks.EarlyStopping(monitor='val_loss', patience=7, verbose=1, mode='auto')\n",
    "    \n",
    "    checkpointer = callbacks.ModelCheckpoint(filepath=('checkpoint.hdf5'), verbose=1, save_best_only=True)\n",
    "    \n",
    "    # Hist = callbacks.History()\n",
    "    \n",
    "    model.fit(X_train, y_train, verbose=2, callbacks = [early_stopping, checkpointer], batch_size=batch_size, nb_epoch=nb_epoch, validation_data=(X_test, y_test))\n",
    "    \n",
    "    return model, model.evaluate(X_test, y_test, verbose=1)"
   ]
  },
  {
   "cell_type": "code",
   "execution_count": null,
   "metadata": {},
   "outputs": [],
   "source": [
    "def convert_targets(targets):\n",
    "    return pd.get_dummies(targets).values"
   ]
  },
  {
   "cell_type": "code",
   "execution_count": null,
   "metadata": {},
   "outputs": [],
   "source": [
    "df_train = pd.read_csv('/Users/micha/ea-applications/data/test-images.csv')\n",
    "print(df_train.head())\n",
    "paths = '/Users/micha/ea-applications/data/training-test-images/Thermal/*MEDIA/'\n",
    "\n",
    "train_images = read_images(paths)\n",
    "train_arr = process_images(train_images)\n",
    "\n",
    "y = np.array(df_train['Label'])\n",
    "\n",
    "y = convert_targets(y)\n",
    "X_train, X_test, y_train, y_test = train_test_split(train_arr, y, random_state=42, test_size=0.2)"
   ]
  },
  {
   "cell_type": "code",
   "execution_count": null,
   "metadata": {},
   "outputs": [],
   "source": [
    "model, metrics = cnn_layers(X_train, y_train, X_test, y_test, batch_size = 4, nb_classes = 2, nb_epoch = 10)\n",
    "print(metrics)"
   ]
  },
  {
   "cell_type": "code",
   "execution_count": null,
   "metadata": {},
   "outputs": [],
   "source": [
    "# Put path to unlabeled images\n",
    "paths = '/Users/micha/ea-applications/thermal/02-15-2019/100MEDIA/'\n",
    "\n",
    "test_images = read_images(paths)\n",
    "Xnew = process_images(train_images)\n",
    "\n",
    "ynew = model.predict_classes(Xnew)\n",
    "print(ynew)"
   ]
  },
  {
   "cell_type": "code",
   "execution_count": null,
   "metadata": {},
   "outputs": [],
   "source": [
    "# save the model to disk\n",
    "filename = 'finalized_model.sav'\n",
    "pickle.dump(model_boosting, open(filename, 'wb'))"
   ]
  }
 ],
 "metadata": {
  "kernelspec": {
   "display_name": "Python 3",
   "language": "python",
   "name": "python3"
  },
  "language_info": {
   "codemirror_mode": {
    "name": "ipython",
    "version": 3
   },
   "file_extension": ".py",
   "mimetype": "text/x-python",
   "name": "python",
   "nbconvert_exporter": "python",
   "pygments_lexer": "ipython3",
   "version": "3.6.5"
  }
 },
 "nbformat": 4,
 "nbformat_minor": 2
}
