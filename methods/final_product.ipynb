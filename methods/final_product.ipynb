{
 "cells": [
  {
   "cell_type": "code",
   "execution_count": 14,
   "metadata": {},
   "outputs": [],
   "source": [
    "import pickle\n",
    "import pandas as pd\n",
    "\n",
    "import sys\n",
    "sys.path.insert(0, 'C:/Users/micha/github/uav-image-analysis/scripts/')\n",
    "import fit_models"
   ]
  },
  {
   "cell_type": "code",
   "execution_count": 15,
   "metadata": {},
   "outputs": [
    {
     "name": "stdout",
     "output_type": "stream",
     "text": [
      "Help on function read_images in module fit_models:\n",
      "\n",
      "read_images(paths)\n",
      "    Reads in all images and returns list of picture id numbers based on the image name and list of file paths\n",
      "    \n",
      "    Parameters\n",
      "    ----------\n",
      "    paths : string\n",
      "    \n",
      "    Returns\n",
      "    ----------\n",
      "    data : list of image id numbers\n",
      "    \n",
      "    images : list of file paths\n",
      "\n"
     ]
    }
   ],
   "source": [
    "help(fit_models.read_images)\n",
    "# data [num_images x number pixels], images [list of filepaths]"
   ]
  },
  {
   "cell_type": "code",
   "execution_count": 16,
   "metadata": {},
   "outputs": [],
   "source": [
    "def predict_images(path, filename):\n",
    "    images, files = fit_models.read_images(path)\n",
    "    # load the model from disk\n",
    "    loaded_model = pickle.load(open(filename, 'rb'))\n",
    "    prediction = loaded_model.predict(images)\n",
    "    \n",
    "    return prediction, files"
   ]
  },
  {
   "cell_type": "code",
   "execution_count": 17,
   "metadata": {},
   "outputs": [
    {
     "name": "stdout",
     "output_type": "stream",
     "text": [
      "(76, 327680)\n"
     ]
    }
   ],
   "source": [
    "pred, img_list = predict_images('/Users/micha/ea-applications/data/matched/', 'finalized_model.sav')"
   ]
  },
  {
   "cell_type": "code",
   "execution_count": 18,
   "metadata": {},
   "outputs": [
    {
     "name": "stdout",
     "output_type": "stream",
     "text": [
      "(76,)\n"
     ]
    }
   ],
   "source": [
    "print(pred.shape)"
   ]
  },
  {
   "cell_type": "code",
   "execution_count": 19,
   "metadata": {},
   "outputs": [
    {
     "data": {
      "text/plain": [
       "76"
      ]
     },
     "execution_count": 19,
     "metadata": {},
     "output_type": "execute_result"
    }
   ],
   "source": [
    "len(img_list)"
   ]
  },
  {
   "cell_type": "code",
   "execution_count": 20,
   "metadata": {},
   "outputs": [
    {
     "data": {
      "text/plain": [
       "array([0, 2, 0, 0, 0, 0, 2, 0, 0, 0, 0, 0, 0, 0, 0, 0, 3, 0, 3, 0, 0, 0,\n",
       "       0, 0, 0, 0, 0, 0, 0, 0, 0, 0, 0, 1, 1, 1, 1, 1, 1, 1, 1, 1, 1, 1,\n",
       "       1, 1, 2, 2, 2, 2, 2, 2, 2, 2, 2, 2, 1, 2, 2, 2, 2, 2, 2, 0, 0, 0,\n",
       "       0, 1, 0, 0, 0, 1, 1, 1, 1, 1], dtype=int64)"
      ]
     },
     "execution_count": 20,
     "metadata": {},
     "output_type": "execute_result"
    }
   ],
   "source": [
    "pred"
   ]
  },
  {
   "cell_type": "code",
   "execution_count": 21,
   "metadata": {},
   "outputs": [
    {
     "data": {
      "text/plain": [
       "['/Users/micha/ea-applications/data/matched\\\\DJI_0011.jpg',\n",
       " '/Users/micha/ea-applications/data/matched\\\\DJI_0012.jpg',\n",
       " '/Users/micha/ea-applications/data/matched\\\\DJI_0013.jpg',\n",
       " '/Users/micha/ea-applications/data/matched\\\\DJI_0014.jpg',\n",
       " '/Users/micha/ea-applications/data/matched\\\\DJI_0015.jpg',\n",
       " '/Users/micha/ea-applications/data/matched\\\\DJI_0016.jpg',\n",
       " '/Users/micha/ea-applications/data/matched\\\\DJI_0454.jpg',\n",
       " '/Users/micha/ea-applications/data/matched\\\\DJI_0455.jpg',\n",
       " '/Users/micha/ea-applications/data/matched\\\\DJI_0456.jpg',\n",
       " '/Users/micha/ea-applications/data/matched\\\\DJI_0457.jpg',\n",
       " '/Users/micha/ea-applications/data/matched\\\\DJI_0458.jpg',\n",
       " '/Users/micha/ea-applications/data/matched\\\\DJI_0459.jpg',\n",
       " '/Users/micha/ea-applications/data/matched\\\\DJI_0460.jpg',\n",
       " '/Users/micha/ea-applications/data/matched\\\\DJI_0461.jpg',\n",
       " '/Users/micha/ea-applications/data/matched\\\\DJI_0462.jpg',\n",
       " '/Users/micha/ea-applications/data/matched\\\\DJI_0463.jpg',\n",
       " '/Users/micha/ea-applications/data/matched\\\\DJI_0464.jpg',\n",
       " '/Users/micha/ea-applications/data/matched\\\\DJI_0465.jpg',\n",
       " '/Users/micha/ea-applications/data/matched\\\\DJI_0466.jpg',\n",
       " '/Users/micha/ea-applications/data/matched\\\\DJI_0467.jpg',\n",
       " '/Users/micha/ea-applications/data/matched\\\\DJI_0468.jpg',\n",
       " '/Users/micha/ea-applications/data/matched\\\\DJI_0469.jpg',\n",
       " '/Users/micha/ea-applications/data/matched\\\\DJI_0470.jpg',\n",
       " '/Users/micha/ea-applications/data/matched\\\\DJI_0471.jpg',\n",
       " '/Users/micha/ea-applications/data/matched\\\\DJI_0472.jpg',\n",
       " '/Users/micha/ea-applications/data/matched\\\\DJI_0473.jpg',\n",
       " '/Users/micha/ea-applications/data/matched\\\\DJI_0474.jpg',\n",
       " '/Users/micha/ea-applications/data/matched\\\\DJI_0475.jpg',\n",
       " '/Users/micha/ea-applications/data/matched\\\\DJI_0476.jpg',\n",
       " '/Users/micha/ea-applications/data/matched\\\\DJI_0477.jpg',\n",
       " '/Users/micha/ea-applications/data/matched\\\\DJI_0478.jpg',\n",
       " '/Users/micha/ea-applications/data/matched\\\\DJI_0479.jpg',\n",
       " '/Users/micha/ea-applications/data/matched\\\\DJI_0480.jpg',\n",
       " '/Users/micha/ea-applications/data/matched\\\\matched.jpg',\n",
       " '/Users/micha/ea-applications/data/matched\\\\matched1.jpg',\n",
       " '/Users/micha/ea-applications/data/matched\\\\matched10.jpg',\n",
       " '/Users/micha/ea-applications/data/matched\\\\matched11.jpg',\n",
       " '/Users/micha/ea-applications/data/matched\\\\matched12.jpg',\n",
       " '/Users/micha/ea-applications/data/matched\\\\matched13.jpg',\n",
       " '/Users/micha/ea-applications/data/matched\\\\matched14.jpg',\n",
       " '/Users/micha/ea-applications/data/matched\\\\matched15.jpg',\n",
       " '/Users/micha/ea-applications/data/matched\\\\matched16.jpg',\n",
       " '/Users/micha/ea-applications/data/matched\\\\matched17.jpg',\n",
       " '/Users/micha/ea-applications/data/matched\\\\matched18.jpg',\n",
       " '/Users/micha/ea-applications/data/matched\\\\matched19.jpg',\n",
       " '/Users/micha/ea-applications/data/matched\\\\matched2.jpg',\n",
       " '/Users/micha/ea-applications/data/matched\\\\matched20.jpg',\n",
       " '/Users/micha/ea-applications/data/matched\\\\matched21.jpg',\n",
       " '/Users/micha/ea-applications/data/matched\\\\matched22.jpg',\n",
       " '/Users/micha/ea-applications/data/matched\\\\matched23.jpg',\n",
       " '/Users/micha/ea-applications/data/matched\\\\matched24.jpg',\n",
       " '/Users/micha/ea-applications/data/matched\\\\matched25.jpg',\n",
       " '/Users/micha/ea-applications/data/matched\\\\matched26.jpg',\n",
       " '/Users/micha/ea-applications/data/matched\\\\matched27.jpg',\n",
       " '/Users/micha/ea-applications/data/matched\\\\matched28.jpg',\n",
       " '/Users/micha/ea-applications/data/matched\\\\matched29.jpg',\n",
       " '/Users/micha/ea-applications/data/matched\\\\matched3.jpg',\n",
       " '/Users/micha/ea-applications/data/matched\\\\matched30.jpg',\n",
       " '/Users/micha/ea-applications/data/matched\\\\matched31.jpg',\n",
       " '/Users/micha/ea-applications/data/matched\\\\matched32.jpg',\n",
       " '/Users/micha/ea-applications/data/matched\\\\matched33.jpg',\n",
       " '/Users/micha/ea-applications/data/matched\\\\matched34.jpg',\n",
       " '/Users/micha/ea-applications/data/matched\\\\matched35.jpg',\n",
       " '/Users/micha/ea-applications/data/matched\\\\matched36.jpg',\n",
       " '/Users/micha/ea-applications/data/matched\\\\matched37.jpg',\n",
       " '/Users/micha/ea-applications/data/matched\\\\matched38.jpg',\n",
       " '/Users/micha/ea-applications/data/matched\\\\matched39.jpg',\n",
       " '/Users/micha/ea-applications/data/matched\\\\matched4.jpg',\n",
       " '/Users/micha/ea-applications/data/matched\\\\matched40.jpg',\n",
       " '/Users/micha/ea-applications/data/matched\\\\matched41.jpg',\n",
       " '/Users/micha/ea-applications/data/matched\\\\matched42.jpg',\n",
       " '/Users/micha/ea-applications/data/matched\\\\matched5.jpg',\n",
       " '/Users/micha/ea-applications/data/matched\\\\matched6.jpg',\n",
       " '/Users/micha/ea-applications/data/matched\\\\matched7.jpg',\n",
       " '/Users/micha/ea-applications/data/matched\\\\matched8.jpg',\n",
       " '/Users/micha/ea-applications/data/matched\\\\matched9.jpg']"
      ]
     },
     "execution_count": 21,
     "metadata": {},
     "output_type": "execute_result"
    }
   ],
   "source": [
    "img_list\n"
   ]
  },
  {
   "cell_type": "code",
   "execution_count": 22,
   "metadata": {},
   "outputs": [],
   "source": [
    "set up dictionary name={0:\"Good\", }\n",
    "#for label in pred:\n",
    "    #0='Good'\n",
    "    #1='Blacked Out'\n",
    "    #2='Saturated'\n",
    "    #3='Blurry'"
   ]
  },
  {
   "cell_type": "code",
   "execution_count": 23,
   "metadata": {},
   "outputs": [],
   "source": [
    "product = pd.DataFrame({'Filename':img_list,\n",
    "                        'Label':pred})"
   ]
  },
  {
   "cell_type": "code",
   "execution_count": 24,
   "metadata": {},
   "outputs": [
    {
     "data": {
      "text/html": [
       "<div>\n",
       "<style scoped>\n",
       "    .dataframe tbody tr th:only-of-type {\n",
       "        vertical-align: middle;\n",
       "    }\n",
       "\n",
       "    .dataframe tbody tr th {\n",
       "        vertical-align: top;\n",
       "    }\n",
       "\n",
       "    .dataframe thead th {\n",
       "        text-align: right;\n",
       "    }\n",
       "</style>\n",
       "<table border=\"1\" class=\"dataframe\">\n",
       "  <thead>\n",
       "    <tr style=\"text-align: right;\">\n",
       "      <th></th>\n",
       "      <th>Filename</th>\n",
       "      <th>Label</th>\n",
       "    </tr>\n",
       "  </thead>\n",
       "  <tbody>\n",
       "    <tr>\n",
       "      <th>0</th>\n",
       "      <td>/Users/micha/ea-applications/data/matched\\DJI_...</td>\n",
       "      <td>0</td>\n",
       "    </tr>\n",
       "    <tr>\n",
       "      <th>1</th>\n",
       "      <td>/Users/micha/ea-applications/data/matched\\DJI_...</td>\n",
       "      <td>2</td>\n",
       "    </tr>\n",
       "    <tr>\n",
       "      <th>2</th>\n",
       "      <td>/Users/micha/ea-applications/data/matched\\DJI_...</td>\n",
       "      <td>0</td>\n",
       "    </tr>\n",
       "    <tr>\n",
       "      <th>3</th>\n",
       "      <td>/Users/micha/ea-applications/data/matched\\DJI_...</td>\n",
       "      <td>0</td>\n",
       "    </tr>\n",
       "    <tr>\n",
       "      <th>4</th>\n",
       "      <td>/Users/micha/ea-applications/data/matched\\DJI_...</td>\n",
       "      <td>0</td>\n",
       "    </tr>\n",
       "  </tbody>\n",
       "</table>\n",
       "</div>"
      ],
      "text/plain": [
       "                                            Filename  Label\n",
       "0  /Users/micha/ea-applications/data/matched\\DJI_...      0\n",
       "1  /Users/micha/ea-applications/data/matched\\DJI_...      2\n",
       "2  /Users/micha/ea-applications/data/matched\\DJI_...      0\n",
       "3  /Users/micha/ea-applications/data/matched\\DJI_...      0\n",
       "4  /Users/micha/ea-applications/data/matched\\DJI_...      0"
      ]
     },
     "execution_count": 24,
     "metadata": {},
     "output_type": "execute_result"
    }
   ],
   "source": [
    "product.head()"
   ]
  },
  {
   "cell_type": "code",
   "execution_count": 25,
   "metadata": {},
   "outputs": [],
   "source": [
    "product.to_csv('/Users/micha/ea-applications/data/output.csv', index=False)"
   ]
  }
 ],
 "metadata": {
  "kernelspec": {
   "display_name": "Python 3",
   "language": "python",
   "name": "python3"
  },
  "language_info": {
   "codemirror_mode": {
    "name": "ipython",
    "version": 3
   },
   "file_extension": ".py",
   "mimetype": "text/x-python",
   "name": "python",
   "nbconvert_exporter": "python",
   "pygments_lexer": "ipython3",
   "version": "3.6.5"
  }
 },
 "nbformat": 4,
 "nbformat_minor": 2
}
