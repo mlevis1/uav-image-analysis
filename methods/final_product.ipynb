{
 "cells": [
  {
   "cell_type": "code",
   "execution_count": 1,
   "metadata": {},
   "outputs": [
    {
     "name": "stderr",
     "output_type": "stream",
     "text": [
      "C:\\Users\\micha\\Anaconda3\\lib\\site-packages\\sklearn\\ensemble\\weight_boosting.py:29: DeprecationWarning: numpy.core.umath_tests is an internal NumPy module and should not be imported. It will be removed in a future NumPy release.\n",
      "  from numpy.core.umath_tests import inner1d\n"
     ]
    }
   ],
   "source": [
    "import pickle\n",
    "import pandas as pd\n",
    "\n",
    "import sys\n",
    "sys.path.insert(0, 'C:/Users/micha/github/uav-image-analysis/scripts/')\n",
    "import fit_models"
   ]
  },
  {
   "cell_type": "code",
   "execution_count": 2,
   "metadata": {},
   "outputs": [],
   "source": [
    "def predict_images(path, filename):\n",
    "    \"\"\"\n",
    "    This method will read images from provided path and apply the saved prediction model\n",
    "    \n",
    "    Parameters\n",
    "    ----------\n",
    "    path : location of image files\n",
    "    \n",
    "    filename : name of saved model\n",
    "\n",
    "    Returns\n",
    "    ----------\n",
    "    prediction : list of classes predicted by model\n",
    "    \n",
    "    files : list of image file names\n",
    "    \"\"\"\n",
    "    # Read image data\n",
    "    images, files = fit_models.read_images(path)\n",
    "    # Load the model from disk\n",
    "    loaded_model = pickle.load(open(filename, 'rb'))\n",
    "    # Make predictions\n",
    "    prediction = loaded_model.predict(images)\n",
    "    \n",
    "    return prediction, files"
   ]
  },
  {
   "cell_type": "code",
   "execution_count": 3,
   "metadata": {},
   "outputs": [
    {
     "name": "stdout",
     "output_type": "stream",
     "text": [
      "(76, 327680)\n"
     ]
    }
   ],
   "source": [
    "# Apply function to new data set\n",
    "pred, img_list = predict_images('/Users/micha/ea-applications/data/matched/', 'finalized_model.sav')"
   ]
  },
  {
   "cell_type": "code",
   "execution_count": 4,
   "metadata": {},
   "outputs": [],
   "source": [
    "# Create dictionary of label names\n",
    "names={0:\"Good\", 1:\"Blacked Out\", 2:\"Saturated\", 3:\"Blurry\"}\n",
    "# Map classes to names\n",
    "pred_labels=list(map(names.get, pred))"
   ]
  },
  {
   "cell_type": "code",
   "execution_count": 5,
   "metadata": {},
   "outputs": [],
   "source": [
    "# Create dataframe with image names and predicted classes\n",
    "product = pd.DataFrame({'Filename':img_list,\n",
    "                        'Label':pred_labels})"
   ]
  },
  {
   "cell_type": "code",
   "execution_count": 6,
   "metadata": {},
   "outputs": [
    {
     "data": {
      "text/html": [
       "<div>\n",
       "<style scoped>\n",
       "    .dataframe tbody tr th:only-of-type {\n",
       "        vertical-align: middle;\n",
       "    }\n",
       "\n",
       "    .dataframe tbody tr th {\n",
       "        vertical-align: top;\n",
       "    }\n",
       "\n",
       "    .dataframe thead th {\n",
       "        text-align: right;\n",
       "    }\n",
       "</style>\n",
       "<table border=\"1\" class=\"dataframe\">\n",
       "  <thead>\n",
       "    <tr style=\"text-align: right;\">\n",
       "      <th></th>\n",
       "      <th>Filename</th>\n",
       "      <th>Label</th>\n",
       "    </tr>\n",
       "  </thead>\n",
       "  <tbody>\n",
       "    <tr>\n",
       "      <th>0</th>\n",
       "      <td>/Users/micha/ea-applications/data/matched\\DJI_...</td>\n",
       "      <td>Good</td>\n",
       "    </tr>\n",
       "    <tr>\n",
       "      <th>1</th>\n",
       "      <td>/Users/micha/ea-applications/data/matched\\DJI_...</td>\n",
       "      <td>Saturated</td>\n",
       "    </tr>\n",
       "    <tr>\n",
       "      <th>2</th>\n",
       "      <td>/Users/micha/ea-applications/data/matched\\DJI_...</td>\n",
       "      <td>Good</td>\n",
       "    </tr>\n",
       "    <tr>\n",
       "      <th>3</th>\n",
       "      <td>/Users/micha/ea-applications/data/matched\\DJI_...</td>\n",
       "      <td>Good</td>\n",
       "    </tr>\n",
       "    <tr>\n",
       "      <th>4</th>\n",
       "      <td>/Users/micha/ea-applications/data/matched\\DJI_...</td>\n",
       "      <td>Good</td>\n",
       "    </tr>\n",
       "  </tbody>\n",
       "</table>\n",
       "</div>"
      ],
      "text/plain": [
       "                                            Filename      Label\n",
       "0  /Users/micha/ea-applications/data/matched\\DJI_...       Good\n",
       "1  /Users/micha/ea-applications/data/matched\\DJI_...  Saturated\n",
       "2  /Users/micha/ea-applications/data/matched\\DJI_...       Good\n",
       "3  /Users/micha/ea-applications/data/matched\\DJI_...       Good\n",
       "4  /Users/micha/ea-applications/data/matched\\DJI_...       Good"
      ]
     },
     "execution_count": 6,
     "metadata": {},
     "output_type": "execute_result"
    }
   ],
   "source": [
    "# Check first five results\n",
    "product.head()"
   ]
  },
  {
   "cell_type": "code",
   "execution_count": 7,
   "metadata": {},
   "outputs": [],
   "source": [
    "# Save to csv\n",
    "product.to_csv('/Users/micha/ea-applications/data/output.csv', index=False)"
   ]
  }
 ],
 "metadata": {
  "kernelspec": {
   "display_name": "Python 3",
   "language": "python",
   "name": "python3"
  },
  "language_info": {
   "codemirror_mode": {
    "name": "ipython",
    "version": 3
   },
   "file_extension": ".py",
   "mimetype": "text/x-python",
   "name": "python",
   "nbconvert_exporter": "python",
   "pygments_lexer": "ipython3",
   "version": "3.6.5"
  }
 },
 "nbformat": 4,
 "nbformat_minor": 2
}
