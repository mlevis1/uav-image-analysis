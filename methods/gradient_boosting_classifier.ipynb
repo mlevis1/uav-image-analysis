{
 "cells": [
  {
   "cell_type": "markdown",
   "metadata": {},
   "source": [
    "A program that reads and processes images for a Gradient Boosting Classifier to classify as images as good, blacked-out, saturated, or blurry."
   ]
  },
  {
   "cell_type": "code",
   "execution_count": 1,
   "metadata": {},
   "outputs": [
    {
     "name": "stderr",
     "output_type": "stream",
     "text": [
      "C:\\Users\\micha\\Anaconda3\\lib\\site-packages\\sklearn\\ensemble\\weight_boosting.py:29: DeprecationWarning: numpy.core.umath_tests is an internal NumPy module and should not be imported. It will be removed in a future NumPy release.\n",
      "  from numpy.core.umath_tests import inner1d\n"
     ]
    }
   ],
   "source": [
    "import numpy as np\n",
    "import pandas as pd\n",
    "import os\n",
    "from glob import glob\n",
    "import matplotlib.pyplot as plt\n",
    "%matplotlib inline\n",
    "import cv2\n",
    "\n",
    "from sklearn.model_selection import train_test_split\n",
    "from sklearn.ensemble import RandomForestClassifier, GradientBoostingClassifier\n",
    "from sklearn import linear_model\n",
    "from sklearn import svm\n",
    "from sklearn.metrics import classification_report\n",
    "from sklearn.metrics import accuracy_score\n",
    "from sklearn.metrics import confusion_matrix\n",
    "\n",
    "import sys\n",
    "sys.path.insert(0, 'C:/Users/micha/github/uav-image-analysis/scripts/')\n",
    "import fit_models"
   ]
  },
  {
   "cell_type": "code",
   "execution_count": 2,
   "metadata": {},
   "outputs": [
    {
     "name": "stdout",
     "output_type": "stream",
     "text": [
      "(431, 327680)\n",
      "  Image Date     MEDIA Image_Name  Label Unnamed: 4\n",
      "0  2/16/2019  100MEDIA   DJI_0001      2        NaN\n",
      "1  2/16/2019  100MEDIA   DJI_0002      2        NaN\n",
      "2  2/16/2019  100MEDIA   DJI_0003      2        NaN\n",
      "3  2/16/2019  100MEDIA   DJI_0004      2        NaN\n",
      "4  2/16/2019  100MEDIA   DJI_0005      2        NaN\n",
      "(258, 327680)\n",
      "[0 0 0 0 0 0 0 0 0 2 0 0 3 0 0 0 3 0 0 0 0 0 2 0 0 2 0 0 0 0 0 0 3 2 0 0 0\n",
      " 0 2 3 0 2 0 3 0 0 2 0 0 0 0 2 0 0 3 0 0 0 0 0 0 0 0 0 3 0 0 0 0 0 0 0 3 0\n",
      " 0 0 0 1 0 0 0 0 0 2 0 0 0 0 0 0 0 0 0 0 0 1 0 0 0 0 0 0 0 0 0 0 0 0 0 0 0\n",
      " 0 0 0 0 2 1 0 0 0 0 0 0 0 0 0 0 0 0 0 2 0 0 0 0 0 0 0 0 0 0 0 0 0 0 0 3 0\n",
      " 3 0 0 1 0 0 0 0 0 0 0 0 0 1 0 0 0 0 2 0 0 0 0 0 0 0 0 0 0 2 0 3 0 0 0 0 0\n",
      " 3 0 0 0 0 0 2 2 0 0 0 0 0 0 0 0 0 0 0 0 0 0 0 0 0 0 1 0 0 2 3 0 2 0 0 0 0\n",
      " 1 0 0 0 3 3 0 0 0 0 0 0 0 0 0 0 0 3 0 0 0 2 0 0 0 0 0 0 1 2 0 0 0 0 0 0]\n"
     ]
    }
   ],
   "source": [
    "df_train = pd.read_csv('/Users/micha/ea-applications/data/test-images.csv')\n",
    "\n",
    "paths = '/Users/micha/ea-applications/data/training-test-images/Thermal/mytest/*MEDIA/'\n",
    "\n",
    "train_images = fit_models.read_images(paths)\n",
    "\n",
    "y = np.array(df_train['Label'])\n",
    "\n",
    "y = df_train['Label'].values\n",
    "\n",
    "X_train, X_test, y_train, y_test = train_test_split(train_images, y, random_state=42, test_size=0.4)\n",
    "\n",
    "print(df_train.head())\n",
    "print(X_train.shape)\n",
    "print(y_train)"
   ]
  },
  {
   "cell_type": "code",
   "execution_count": 3,
   "metadata": {},
   "outputs": [
    {
     "name": "stdout",
     "output_type": "stream",
     "text": [
      "             precision    recall  f1-score   support\n",
      "\n",
      "          0       0.84      0.94      0.89       133\n",
      "          1       0.86      0.75      0.80         8\n",
      "          2       0.47      0.50      0.48        14\n",
      "          3       0.00      0.00      0.00        18\n",
      "\n",
      "avg / total       0.72      0.80      0.76       173\n",
      "\n",
      "[4.69650870e-06 1.69103156e-05 2.98603941e-05 1.96985719e-05\n",
      " 5.48940288e-05 1.69103156e-05 1.69103156e-05 2.45760717e-03\n",
      " 6.86493277e-05 1.69103156e-05 2.29877014e-05 1.69099461e-05\n",
      " 2.05051215e-04 1.95920443e-05 1.69096493e-05 1.69103156e-05\n",
      " 1.66894741e-05 6.34354430e-05 1.68718917e-05 1.69103156e-05\n",
      " 5.59599563e-05 1.69103156e-05 1.69103156e-05 1.69103156e-05\n",
      " 1.69103156e-05 1.00908212e-04 3.84035973e-05 1.69102390e-05\n",
      " 1.69103156e-05 1.69103156e-05 1.69103156e-05 1.69103156e-05\n",
      " 3.95174741e-05 1.86390126e-05 9.98965565e-01 1.69103156e-05\n",
      " 2.94413572e-04 2.34888559e-04 1.69103156e-05 9.77498163e-01\n",
      " 1.69103156e-05 1.69098007e-05 1.69103156e-05 1.69103156e-05\n",
      " 1.69103156e-05 1.69103156e-05 7.47705532e-01 2.66063791e-05\n",
      " 2.35741319e-04 2.26662050e-05 1.69103156e-05 2.23110822e-05\n",
      " 1.69103156e-05 2.23430148e-06 2.58937316e-05 1.93600143e-01\n",
      " 1.69103156e-05 1.69103156e-05 1.69103156e-05 5.23696452e-05\n",
      " 7.85859700e-01 4.09418055e-05 1.69103156e-05 1.69070520e-05\n",
      " 1.69103156e-05 1.69103156e-05 2.79295606e-05 6.92247310e-05\n",
      " 4.08658881e-05 1.69103156e-05 1.69099155e-05 2.51025151e-05\n",
      " 1.69103156e-05 1.69103156e-05 3.19178166e-04 1.69103156e-05\n",
      " 2.47622834e-04 6.71853799e-05 3.77770910e-01 1.69103156e-05\n",
      " 1.69103156e-05 3.87196682e-05 1.69103156e-05 2.28590929e-05\n",
      " 1.69103156e-05 1.68022033e-05 5.41805302e-06 1.69103156e-05\n",
      " 1.13244785e-02 6.52861918e-05 1.69103156e-05 1.11633957e-04\n",
      " 1.69034288e-05 1.69098007e-05 1.23512080e-04 2.11959770e-05\n",
      " 4.23854847e-04 1.69102140e-05 1.26753553e-04 1.69103156e-05\n",
      " 6.88557961e-05 1.69103156e-05 3.37718373e-04 1.69073314e-05\n",
      " 1.69103156e-05 5.22940607e-06 1.69103156e-05 9.36743183e-07\n",
      " 1.76913450e-06 1.69103156e-05 1.69103156e-05 1.69097624e-05\n",
      " 3.73277503e-04 3.23395737e-06 1.69103156e-05 1.69103156e-05\n",
      " 3.63664295e-05 1.16392498e-05 4.60292391e-05 2.66351502e-04\n",
      " 1.69103156e-05 1.95860268e-05 1.69103156e-05 1.69097624e-05\n",
      " 1.69103156e-05 1.69103156e-05 1.69103156e-05 2.37282690e-04\n",
      " 1.69102390e-05 9.20550739e-01 6.70943738e-05 1.13304377e-01\n",
      " 1.69040677e-05 7.11130777e-05 2.41666136e-02 8.83068428e-05\n",
      " 1.69103156e-05 1.69103156e-05 9.26518498e-05 1.69022962e-05\n",
      " 1.69103156e-05 8.17683166e-05 1.69103156e-05 3.53432860e-05\n",
      " 1.33576093e-02 1.69103156e-05 9.94812892e-01 1.69103156e-05\n",
      " 1.69034288e-05 1.69101009e-05 3.67401691e-06 1.69103156e-05\n",
      " 5.71049249e-05 4.67657267e-05 1.69103156e-05 9.96502733e-01\n",
      " 1.69103156e-05 1.69103156e-05 1.69103156e-05 2.16537993e-05\n",
      " 1.69103156e-05 1.68985287e-05 1.69103156e-05 1.69102420e-05\n",
      " 6.63735806e-03 2.19808795e-01 1.69103156e-05 4.07147464e-05\n",
      " 1.69103156e-05 1.69103156e-05 1.68513303e-05 1.26756576e-04\n",
      " 3.07277919e-04]\n"
     ]
    }
   ],
   "source": [
    "# Run gradient boosting classifier\n",
    "model = GradientBoostingClassifier()\n",
    "model_boosting, probabilities, y_pred = fit_models.supervised_models(model, X_train, y_train, X_test, y_test)\n",
    "print(probabilities)"
   ]
  },
  {
   "cell_type": "code",
   "execution_count": 4,
   "metadata": {},
   "outputs": [
    {
     "name": "stdout",
     "output_type": "stream",
     "text": [
      "[[125   0   6   2]\n",
      " [  2   6   0   0]\n",
      " [  7   0   7   0]\n",
      " [ 15   1   2   0]]\n"
     ]
    }
   ],
   "source": [
    "print(confusion_matrix(y_test, y_pred))"
   ]
  },
  {
   "cell_type": "code",
   "execution_count": 5,
   "metadata": {},
   "outputs": [
    {
     "ename": "NameError",
     "evalue": "name 'class_labels' is not defined",
     "output_type": "error",
     "traceback": [
      "\u001b[1;31m---------------------------------------------------------------------------\u001b[0m",
      "\u001b[1;31mNameError\u001b[0m                                 Traceback (most recent call last)",
      "\u001b[1;32m<ipython-input-5-8990237bd281>\u001b[0m in \u001b[0;36m<module>\u001b[1;34m()\u001b[0m\n\u001b[0;32m      2\u001b[0m \u001b[1;33m\u001b[0m\u001b[0m\n\u001b[0;32m      3\u001b[0m \u001b[1;31m# Plot non-normalized confusion matrix\u001b[0m\u001b[1;33m\u001b[0m\u001b[1;33m\u001b[0m\u001b[0m\n\u001b[1;32m----> 4\u001b[1;33m fit_models.plot_confusion_matrix(y_test, y_pred, classes=class_labels,\n\u001b[0m\u001b[0;32m      5\u001b[0m                       title='Confusion matrix, without normalization')\n\u001b[0;32m      6\u001b[0m \u001b[1;33m\u001b[0m\u001b[0m\n",
      "\u001b[1;31mNameError\u001b[0m: name 'class_labels' is not defined"
     ]
    }
   ],
   "source": [
    "np.set_printoptions(precision=2)\n",
    "\n",
    "# Plot non-normalized confusion matrix\n",
    "fit_models.plot_confusion_matrix(y_test, y_pred, classes=class_labels,\n",
    "                      title='Confusion matrix, without normalization')\n",
    "\n",
    "# Plot normalized confusion matrix\n",
    "fit_models.plot_confusion_matrix(y_test, y_pred, classes=class_labels, normalize=True,\n",
    "                      title='Normalized confusion matrix')\n",
    "\n",
    "plt.show()"
   ]
  },
  {
   "cell_type": "code",
   "execution_count": null,
   "metadata": {},
   "outputs": [],
   "source": [
    "# save the model to disk\n",
    "filename = 'finalized_model.sav'\n",
    "pickle.dump(model_boosting, open(filename, 'wb'))"
   ]
  }
 ],
 "metadata": {
  "kernelspec": {
   "display_name": "Python 3",
   "language": "python",
   "name": "python3"
  },
  "language_info": {
   "codemirror_mode": {
    "name": "ipython",
    "version": 3
   },
   "file_extension": ".py",
   "mimetype": "text/x-python",
   "name": "python",
   "nbconvert_exporter": "python",
   "pygments_lexer": "ipython3",
   "version": "3.6.5"
  }
 },
 "nbformat": 4,
 "nbformat_minor": 2
}
