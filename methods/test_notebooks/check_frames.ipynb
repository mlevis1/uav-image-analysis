{
 "cells": [
  {
   "cell_type": "code",
   "execution_count": null,
   "metadata": {},
   "outputs": [],
   "source": [
    "import rasterio as rio\n",
    "import numpy as np\n",
    "from matplotlib import pyplot as plt"
   ]
  },
  {
   "cell_type": "code",
   "execution_count": null,
   "metadata": {},
   "outputs": [],
   "source": [
    "# get the list of images... could also use the 'glob' library\n",
    "images = !ls ./06272018/\n",
    "images = ['./06272018/' + im for im in images]"
   ]
  },
  {
   "cell_type": "code",
   "execution_count": null,
   "metadata": {
    "scrolled": false
   },
   "outputs": [],
   "source": [
    "# open each image, plot it with its histogram.\n",
    "for im in images:\n",
    "    with rio.open(im) as src:\n",
    "        \n",
    "        # read the image data and print the metadata\n",
    "        arr = src.read()\n",
    "        print(src.profile)\n",
    "        print('\\n')\n",
    "        \n",
    "        # plot the image. it is 3 bands but all bands are the same.\n",
    "        fig,ax = plt.subplots(1,2,figsize=(20,10))\n",
    "        ax[0].imshow(arr[0], cmap='jet')\n",
    "        ax[0].set_title(im)\n",
    "        \n",
    "        # plot the histogram with 100 bins\n",
    "        ax[1].hist(arr[0].flatten(), bins=100, facecolor='b', edgecolor='k', alpha=0.15)\n",
    "        ax[1].set_title('histogram')\n",
    "        \n",
    "        plt.show()"
   ]
  },
  {
   "cell_type": "markdown",
   "metadata": {},
   "source": [
    "data is all UINT8 which has been stacked as 3 band JPG data. Maybe it has been processed from an earlier 'raw' version."
   ]
  },
  {
   "cell_type": "markdown",
   "metadata": {},
   "source": [
    "check to see if the bands are different"
   ]
  },
  {
   "cell_type": "code",
   "execution_count": null,
   "metadata": {},
   "outputs": [],
   "source": [
    "band_diff_0_1 = np.sum(arr[0] - arr[1])\n",
    "band_diff_0_2 = np.sum(arr[0] - arr[2])\n",
    "print('band 1 and 2 difference: {}'.format(band_diff_0_1))\n",
    "print('band 1 and 3 difference: {}'.format(band_diff_0_2))"
   ]
  },
  {
   "cell_type": "code",
   "execution_count": null,
   "metadata": {},
   "outputs": [],
   "source": []
  }
 ],
 "metadata": {
  "kernelspec": {
   "display_name": "Python 3",
   "language": "python",
   "name": "python3"
  },
  "language_info": {
   "codemirror_mode": {
    "name": "ipython",
    "version": 3
   },
   "file_extension": ".py",
   "mimetype": "text/x-python",
   "name": "python",
   "nbconvert_exporter": "python",
   "pygments_lexer": "ipython3",
   "version": "3.6.5"
  }
 },
 "nbformat": 4,
 "nbformat_minor": 2
}
