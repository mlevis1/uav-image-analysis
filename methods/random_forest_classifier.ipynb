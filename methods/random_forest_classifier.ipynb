{
 "cells": [
  {
   "cell_type": "markdown",
   "metadata": {},
   "source": [
    "A program that reads and processes images for a Random Forest Classifier to classify as images as good, blacked-out, saturated, or blurry."
   ]
  },
  {
   "cell_type": "code",
   "execution_count": 1,
   "metadata": {},
   "outputs": [
    {
     "name": "stderr",
     "output_type": "stream",
     "text": [
      "C:\\Users\\micha\\Anaconda3\\lib\\site-packages\\sklearn\\ensemble\\weight_boosting.py:29: DeprecationWarning: numpy.core.umath_tests is an internal NumPy module and should not be imported. It will be removed in a future NumPy release.\n",
      "  from numpy.core.umath_tests import inner1d\n"
     ]
    }
   ],
   "source": [
    "import numpy as np\n",
    "import pandas as pd\n",
    "import os\n",
    "from glob import glob\n",
    "import matplotlib.pyplot as plt\n",
    "%matplotlib inline\n",
    "import cv2\n",
    "\n",
    "from sklearn.model_selection import train_test_split\n",
    "from sklearn.ensemble import RandomForestClassifier, GradientBoostingClassifier\n",
    "from sklearn import linear_model\n",
    "from sklearn import svm\n",
    "from sklearn.metrics import classification_report\n",
    "from sklearn.metrics import accuracy_score\n",
    "from sklearn.metrics import confusion_matrix\n",
    "\n",
    "import sys\n",
    "sys.path.insert(0, 'C:/Users/micha/github/uav-image-analysis/scripts/')\n",
    "import fit_models"
   ]
  },
  {
   "cell_type": "code",
   "execution_count": 2,
   "metadata": {},
   "outputs": [
    {
     "name": "stdout",
     "output_type": "stream",
     "text": [
      "(431, 327680)\n",
      "  Image Date     MEDIA Image_Name  Label Unnamed: 4\n",
      "0  2/16/2019  100MEDIA   DJI_0001      2        NaN\n",
      "1  2/16/2019  100MEDIA   DJI_0002      2        NaN\n",
      "2  2/16/2019  100MEDIA   DJI_0003      2        NaN\n",
      "3  2/16/2019  100MEDIA   DJI_0004      2        NaN\n",
      "4  2/16/2019  100MEDIA   DJI_0005      2        NaN\n",
      "(258, 327680)\n",
      "[0 0 0 0 0 0 0 0 0 2 0 0 3 0 0 0 3 0 0 0 0 0 2 0 0 2 0 0 0 0 0 0 3 2 0 0 0\n",
      " 0 2 3 0 2 0 3 0 0 2 0 0 0 0 2 0 0 3 0 0 0 0 0 0 0 0 0 3 0 0 0 0 0 0 0 3 0\n",
      " 0 0 0 1 0 0 0 0 0 2 0 0 0 0 0 0 0 0 0 0 0 1 0 0 0 0 0 0 0 0 0 0 0 0 0 0 0\n",
      " 0 0 0 0 2 1 0 0 0 0 0 0 0 0 0 0 0 0 0 2 0 0 0 0 0 0 0 0 0 0 0 0 0 0 0 3 0\n",
      " 3 0 0 1 0 0 0 0 0 0 0 0 0 1 0 0 0 0 2 0 0 0 0 0 0 0 0 0 0 2 0 3 0 0 0 0 0\n",
      " 3 0 0 0 0 0 2 2 0 0 0 0 0 0 0 0 0 0 0 0 0 0 0 0 0 0 1 0 0 2 3 0 2 0 0 0 0\n",
      " 1 0 0 0 3 3 0 0 0 0 0 0 0 0 0 0 0 3 0 0 0 2 0 0 0 0 0 0 1 2 0 0 0 0 0 0]\n"
     ]
    }
   ],
   "source": [
    "df_train = pd.read_csv('/Users/micha/ea-applications/data/test-images.csv')\n",
    "\n",
    "paths = '/Users/micha/ea-applications/data/training-test-images/Thermal/mytest/*MEDIA/'\n",
    "\n",
    "train_images = fit_models.read_images(paths)\n",
    "\n",
    "y = np.array(df_train['Label'])\n",
    "\n",
    "y = df_train['Label'].values\n",
    "\n",
    "X_train, X_test, y_train, y_test = train_test_split(train_images, y, random_state=42, test_size=0.4)\n",
    "\n",
    "print(df_train.head())\n",
    "print(X_train.shape)\n",
    "print(y_train)"
   ]
  },
  {
   "cell_type": "code",
   "execution_count": 5,
   "metadata": {},
   "outputs": [
    {
     "name": "stdout",
     "output_type": "stream",
     "text": [
      "             precision    recall  f1-score   support\n",
      "\n",
      "          0       0.87      0.97      0.92       133\n",
      "          1       0.80      1.00      0.89         8\n",
      "          2       0.64      0.64      0.64        14\n",
      "          3       0.00      0.00      0.00        18\n",
      "\n",
      "avg / total       0.76      0.84      0.80       173\n",
      "\n",
      "[0.  0.  0.  0.  0.  0.  0.  0.3 0.  0.  0.  0.  0.3 0.  0.  0.  0.  0.\n",
      " 0.  0.  0.  0.  0.  0.  0.  0.  0.  0.  0.  0.  0.  0.  0.  0.  1.  0.\n",
      " 0.3 0.  0.  0.9 0.  0.  0.  0.  0.  0.  0.8 0.  0.  0.  0.  0.  0.  0.\n",
      " 0.  0.1 0.  0.  0.  0.1 0.8 0.  0.  0.  0.  0.  0.  0.  0.2 0.  0.  0.\n",
      " 0.  0.  0.  0.  0.  0.  0.6 0.  0.  0.  0.  0.  0.  0.  0.  0.  0.2 0.\n",
      " 0.  0.  0.  0.1 0.  0.  0.  0.  0.  0.  0.  0.  0.  0.  0.  0.  0.  0.\n",
      " 0.  0.  0.  0.  0.  0.  0.  0.  0.  0.  0.  0.  0.  0.  0.  0.  0.  0.\n",
      " 0.  0.  0.  0.8 0.  0.  0.  0.  0.7 0.  0.  0.  0.  0.  0.  0.  0.  0.\n",
      " 0.3 0.  1.  0.  0.  0.  0.  0.  0.  0.  0.  0.7 0.  0.  0.  0.  0.  0.\n",
      " 0.  0.  0.3 0.  0.  0.  0.  0.  0.  0.  0. ]\n"
     ]
    }
   ],
   "source": [
    "# Run random forest classifier\n",
    "model = RandomForestClassifier()\n",
    "model_logistic, probabilities, y_pred = fit_models.supervised_models(model, X_train, y_train, X_test, y_test)\n",
    "print(probabilities)"
   ]
  },
  {
   "cell_type": "code",
   "execution_count": 6,
   "metadata": {},
   "outputs": [
    {
     "name": "stdout",
     "output_type": "stream",
     "text": [
      "[[129   0   4   0]\n",
      " [  0   8   0   0]\n",
      " [  4   0   9   1]\n",
      " [ 15   2   1   0]]\n"
     ]
    }
   ],
   "source": [
    "print(confusion_matrix(y_test, y_pred))"
   ]
  },
  {
   "cell_type": "code",
   "execution_count": 7,
   "metadata": {},
   "outputs": [
    {
     "name": "stdout",
     "output_type": "stream",
     "text": [
      "\n"
     ]
    },
    {
     "data": {
      "image/png": "[encoded data removed]",
      "text/plain": [
       "<Figure size 432x288 with 2 Axes>"
      ]
     },
     "metadata": {},
     "output_type": "display_data"
    }
   ],
   "source": [
    "class_labels=['Good', 'Blacked-Out', 'Saturated', 'Blurry']\n",
    "\n",
    "np.set_printoptions(precision=2)\n",
    "\n",
    "# Plot non-normalized confusion matrix\n",
    "#fit_models.plot_confusion_matrix(y_test, y_pred, classes=class_labels,\n",
    "                      #title='Confusion matrix, without normalization')\n",
    "\n",
    "# Plot normalized confusion matrix\n",
    "fit_models.plot_confusion_matrix(y_test, y_pred, classes=class_labels, normalize=True,\n",
    "                      title='Normalized confusion matrix')\n",
    "\n",
    "plt.show()"
   ]
  },
  {
   "cell_type": "code",
   "execution_count": null,
   "metadata": {},
   "outputs": [],
   "source": [
    "# save the model to disk\n",
    "filename = 'finalized_model.sav'\n",
    "pickle.dump(model_boosting, open(filename, 'wb'))"
   ]
  }
 ],
 "metadata": {
  "kernelspec": {
   "display_name": "Python 3",
   "language": "python",
   "name": "python3"
  },
  "language_info": {
   "codemirror_mode": {
    "name": "ipython",
    "version": 3
   },
   "file_extension": ".py",
   "mimetype": "text/x-python",
   "name": "python",
   "nbconvert_exporter": "python",
   "pygments_lexer": "ipython3",
   "version": "3.6.5"
  }
 },
 "nbformat": 4,
 "nbformat_minor": 2
}
