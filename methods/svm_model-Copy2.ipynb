{
 "cells": [
  {
   "cell_type": "markdown",
   "metadata": {},
   "source": [
    "A program that reads and processes images for a Support Vector Machine (SVM) to classify as images as good or bad."
   ]
  },
  {
   "cell_type": "code",
   "execution_count": 1,
   "metadata": {},
   "outputs": [
    {
     "name": "stderr",
     "output_type": "stream",
     "text": [
      "C:\\Users\\micha\\Anaconda3\\lib\\site-packages\\sklearn\\ensemble\\weight_boosting.py:29: DeprecationWarning: numpy.core.umath_tests is an internal NumPy module and should not be imported. It will be removed in a future NumPy release.\n",
      "  from numpy.core.umath_tests import inner1d\n"
     ]
    }
   ],
   "source": [
    "import numpy as np\n",
    "import pandas as pd\n",
    "import os\n",
    "from glob import glob\n",
    "import matplotlib.pyplot as plt\n",
    "%matplotlib inline\n",
    "import cv2\n",
    "\n",
    "from sklearn.model_selection import train_test_split\n",
    "from sklearn.ensemble import RandomForestClassifier, GradientBoostingClassifier\n",
    "from sklearn import linear_model\n",
    "from sklearn import svm\n",
    "from sklearn.metrics import classification_report\n",
    "from sklearn.metrics import accuracy_score\n",
    "from sklearn.metrics import confusion_matrix\n",
    "\n",
    "import pickle"
   ]
  },
  {
   "cell_type": "code",
   "execution_count": 2,
   "metadata": {},
   "outputs": [],
   "source": [
    "def read_images(paths): \n",
    "    \"\"\"\n",
    "    Reads in all images and returns list of picture id numbers based on the image name\n",
    "    \n",
    "    Parameters\n",
    "    ----------\n",
    "    paths : string\n",
    "    \n",
    "    Returns\n",
    "    ----------\n",
    "    images and list of id numbers\n",
    "    \"\"\"\n",
    "    import numpy as np\n",
    "    # Get list of images\n",
    "    images = (glob(paths + '*.jpg'))\n",
    "    # Read images from list\n",
    "    data = [cv2.cvtColor(cv2.imread(file),cv2.COLOR_BGR2GRAY) for file in images]\n",
    "    data = np.array(data)\n",
    "    data = data.reshape((len(data),-1))\n",
    "    \n",
    "    print(data.shape)\n",
    "    return data"
   ]
  },
  {
   "cell_type": "code",
   "execution_count": 13,
   "metadata": {},
   "outputs": [],
   "source": [
    "def svm_layers(X_train, y_train, X_test, y_test):\n",
    "    \"\"\"\n",
    "    Builds layers of Support Vector Machine\n",
    "    Fits model to the data\n",
    "    \n",
    "    Parameters\n",
    "    ------------\n",
    "    X_train = array\n",
    "    X_test = array\n",
    "    y_train = data frame or array\n",
    "    y_test = data frame or array\n",
    "       \n",
    "    Returns\n",
    "    ------------\n",
    "    model metrics evaluation\n",
    "    \"\"\"\n",
    "    \n",
    "    model = svm.SVC(gamma=0.001)\n",
    "    model.fit(X_train,y_train)\n",
    "    y_pred = model.predict(X_test)\n",
    "    print(classification_report(y_test,y_pred))\n",
    "    accuracy = accuracy_score(y_test,y_pred)\n",
    "       \n",
    "    np.set_printoptions(precision=2)\n",
    "\n",
    "    # Plot non-normalized confusion matrix\n",
    "    plot_confusion_matrix(y_test, y_pred, classes=class_labels,\n",
    "                      title='Confusion matrix, without normalization')\n",
    "\n",
    "    # Plot normalized confusion matrix\n",
    "    plot_confusion_matrix(y_test, y_pred, classes=class_labels, normalize=True,\n",
    "                      title='Normalized confusion matrix')\n",
    "\n",
    "    plt.show()\n",
    "    return model,accuracy"
   ]
  },
  {
   "cell_type": "code",
   "execution_count": 4,
   "metadata": {},
   "outputs": [],
   "source": [
    "def supervised_models(model, X_train, y_train):\n",
    "    \"\"\"\n",
    "    Fits supervised models to data and returns metrics\n",
    "    \n",
    "    Parameters\n",
    "    ------------\n",
    "    model = supervised learning model\n",
    "    X_train = array\n",
    "    y_train = data frame or array\n",
    "       \n",
    "    Returns\n",
    "    ------------\n",
    "    model metrics evaluation\n",
    "    \"\"\"\n",
    "    \n",
    "    model = model\n",
    "    model.fit(X_train, y_train)\n",
    "    probabilities = model.predict_proba(X_test)[:,1]\n",
    "    y_pred = model.predict(X_test)\n",
    "    \n",
    "    print(classification_report(y_test,y_pred))\n",
    "\n",
    "    return model, probabilities, y_pred"
   ]
  },
  {
   "cell_type": "code",
   "execution_count": 5,
   "metadata": {},
   "outputs": [
    {
     "name": "stdout",
     "output_type": "stream",
     "text": [
      "(424, 327680)\n",
      "  Image Date     MEDIA Image_Name  Label Unnamed: 4\n",
      "0  2/16/2019  100MEDIA   DJI_0001      2        NaN\n",
      "1  2/16/2019  100MEDIA   DJI_0002      2        NaN\n",
      "2  2/16/2019  100MEDIA   DJI_0003      2        NaN\n",
      "3  2/16/2019  100MEDIA   DJI_0004      2        NaN\n",
      "4  2/16/2019  100MEDIA   DJI_0005      2        NaN\n",
      "(254, 327680)\n",
      "[0 0 0 0 0 0 0 0 0 0 3 0 0 0 0 2 2 0 0 0 0 0 2 0 0 0 0 0 0 0 0 0 0 2 0 0 0\n",
      " 0 0 3 0 2 0 1 0 0 1 3 0 0 0 3 0 0 0 0 0 0 0 0 0 0 0 0 0 0 0 1 0 0 0 0 0 3\n",
      " 1 0 0 0 1 3 0 0 2 3 0 0 0 0 0 0 0 0 0 1 0 0 0 0 2 0 0 0 0 0 0 0 0 0 0 0 0\n",
      " 0 0 0 0 0 0 0 0 0 0 0 0 2 0 0 0 0 2 0 0 0 0 2 0 0 0 0 0 0 0 0 0 0 0 0 0 0\n",
      " 0 1 0 0 0 0 0 0 0 0 0 1 0 0 0 0 3 0 0 0 0 0 0 0 0 0 0 2 0 3 0 0 0 0 3 0 0\n",
      " 0 0 0 2 3 0 0 0 0 0 0 0 0 0 0 0 0 0 0 0 0 0 2 0 0 3 3 0 2 0 0 0 0 2 0 0 0\n",
      " 3 3 0 0 0 0 0 0 0 0 0 0 0 3 0 0 0 2 0 0 0 0 0 0 2 2 0 0 0 0 0 0]\n"
     ]
    }
   ],
   "source": [
    "df_train = pd.read_csv('/Users/micha/ea-applications/data/test-images.csv')\n",
    "\n",
    "paths = '/Users/micha/ea-applications/data/training-test-images/Thermal/mytest/*MEDIA/'\n",
    "\n",
    "train_images = read_images(paths)\n",
    "\n",
    "y = np.array(df_train['Label'])\n",
    "\n",
    "y = df_train['Label'].values\n",
    "\n",
    "X_train, X_test, y_train, y_test = train_test_split(train_images, y, random_state=42, test_size=0.4)\n",
    "\n",
    "print(df_train.head())\n",
    "print(X_train.shape)\n",
    "print(y_train)"
   ]
  },
  {
   "cell_type": "code",
   "execution_count": 6,
   "metadata": {},
   "outputs": [
    {
     "name": "stdout",
     "output_type": "stream",
     "text": [
      "             precision    recall  f1-score   support\n",
      "\n",
      "          0       0.80      1.00      0.89       136\n",
      "          1       0.00      0.00      0.00         1\n",
      "          2       0.00      0.00      0.00        15\n",
      "          3       0.00      0.00      0.00        18\n",
      "\n",
      "avg / total       0.64      0.80      0.71       170\n",
      "\n",
      "0.8\n"
     ]
    },
    {
     "name": "stderr",
     "output_type": "stream",
     "text": [
      "C:\\Users\\micha\\Anaconda3\\lib\\site-packages\\sklearn\\metrics\\classification.py:1135: UndefinedMetricWarning: Precision and F-score are ill-defined and being set to 0.0 in labels with no predicted samples.\n",
      "  'precision', 'predicted', average, warn_for)\n"
     ]
    }
   ],
   "source": [
    "# Run svm model\n",
    "model = svm.SVC(gamma=0.001)\n",
    "model.fit(X_train,y_train)\n",
    "y_pred = model.predict(X_test)\n",
    "np.set_printoptions(precision=2)\n",
    "\n",
    "# Plot non-normalized confusion matrix\n",
    "plot_confusion_matrix(y_test, y_pred, classes=class_labels,\n",
    "                      title='Confusion matrix, without normalization')\n",
    "\n",
    "# Plot normalized confusion matrix\n",
    "plot_confusion_matrix(y_test, y_pred, classes=class_labels, normalize=True,\n",
    "                      title='Normalized confusion matrix')\n",
    "\n",
    "plt.show()"
   ]
  },
  {
   "cell_type": "code",
   "execution_count": 7,
   "metadata": {},
   "outputs": [
    {
     "data": {
      "text/plain": [
       "array([1], dtype=int64)"
      ]
     },
     "execution_count": 7,
     "metadata": {},
     "output_type": "execute_result"
    }
   ],
   "source": [
    "y_test[y_test==1]"
   ]
  },
  {
   "cell_type": "code",
   "execution_count": 10,
   "metadata": {},
   "outputs": [],
   "source": [
    "class_labels=['Good', 'Blacked-Out', 'Saturated', 'Blurry']\n",
    "\n",
    "def plot_confusion_matrix(y_true, y_pred, classes,\n",
    "                          normalize=False,\n",
    "                          title=None,\n",
    "                          cmap=plt.cm.Blues):\n",
    "    \"\"\"\n",
    "    This function prints and plots the confusion matrix.\n",
    "    Normalization can be applied by setting `normalize=True`.\n",
    "    \"\"\"\n",
    "    if not title:\n",
    "        if normalize:\n",
    "            title = 'Normalized confusion matrix'\n",
    "        else:\n",
    "            title = 'Confusion matrix, without normalization'\n",
    "\n",
    "    # Compute confusion matrix\n",
    "    cm = confusion_matrix(y_true, y_pred)\n",
    "    # Only use the labels that appear in the data\n",
    "    #classes = classes[unique_labels(y_true, y_pred)]\n",
    "    if normalize:\n",
    "        cm = cm.astype('float') / cm.sum(axis=1)[:, np.newaxis]\n",
    "        print(\"Normalized confusion matrix\")\n",
    "    else:\n",
    "        print('Confusion matrix, without normalization')\n",
    "\n",
    "    print(cm)\n",
    "\n",
    "    fig, ax = plt.subplots()\n",
    "    im = ax.imshow(cm, interpolation='nearest', cmap=cmap)\n",
    "    ax.figure.colorbar(im, ax=ax)\n",
    "    # We want to show all ticks...\n",
    "    ax.set(xticks=np.arange(cm.shape[1]),\n",
    "           yticks=np.arange(cm.shape[0]),\n",
    "           # ... and label them with the respective list entries\n",
    "           xticklabels=classes, yticklabels=classes,\n",
    "           title=title,\n",
    "           ylabel='True label',\n",
    "           xlabel='Predicted label')\n",
    "\n",
    "    # Rotate the tick labels and set their alignment.\n",
    "    plt.setp(ax.get_xticklabels(), rotation=45, ha=\"right\",\n",
    "             rotation_mode=\"anchor\")\n",
    "\n",
    "    # Loop over data dimensions and create text annotations.\n",
    "    fmt = '.2f' if normalize else 'd'\n",
    "    thresh = cm.max() / 2.\n",
    "    for i in range(cm.shape[0]):\n",
    "        for j in range(cm.shape[1]):\n",
    "            ax.text(j, i, format(cm[i, j], fmt),\n",
    "                    ha=\"center\", va=\"center\",\n",
    "                    color=\"white\" if cm[i, j] > thresh else \"black\")\n",
    "    fig.tight_layout()\n",
    "    return ax"
   ]
  },
  {
   "cell_type": "code",
   "execution_count": 16,
   "metadata": {},
   "outputs": [
    {
     "name": "stdout",
     "output_type": "stream",
     "text": [
      "             precision    recall  f1-score   support\n",
      "\n",
      "          0       0.84      0.81      0.82       136\n",
      "          1       0.00      0.00      0.00         1\n",
      "          2       0.21      0.40      0.27        15\n",
      "          3       0.50      0.06      0.10        18\n",
      "\n",
      "avg / total       0.74      0.69      0.69       170\n",
      "\n",
      "[6.18e-08 1.48e-15 1.05e-01 1.49e-02 1.03e-09 3.33e-06 2.31e-05 1.48e-06\n",
      " 6.67e-15 4.99e-14 8.47e-09 2.77e-01 8.32e-16 6.75e-07 7.57e-17 3.56e-11\n",
      " 2.49e-12 1.10e-26 3.15e-12 7.78e-18 8.70e-09 1.36e-10 3.47e-05 3.73e-22\n",
      " 6.74e-09 1.03e-01 6.51e-07 1.07e-02 5.28e-04 2.68e-04 6.90e-05 8.27e-01\n",
      " 1.57e-16 1.57e-13 1.46e-13 5.26e-12 1.99e-21 2.47e-11 3.25e-06 4.35e-14\n",
      " 2.73e-08 4.04e-08 2.62e-16 2.60e-10 4.11e-05 2.79e-13 7.00e-20 5.28e-04\n",
      " 1.09e-21 2.33e-13 5.84e-03 8.60e-01 4.32e-10 2.30e-07 2.72e-11 9.80e-04\n",
      " 5.73e-05 5.15e-05 7.81e-01 4.74e-07 4.13e-18 2.41e-06 9.08e-15 2.25e-05\n",
      " 7.52e-04 8.54e-09 2.18e-06 5.21e-06 9.19e-05 8.83e-09 6.49e-03 4.29e-07\n",
      " 1.07e-10 5.03e-10 5.12e-11 7.06e-06 7.12e-01 1.27e-06 4.50e-15 1.46e-13\n",
      " 1.36e-09 8.72e-12 1.95e-05 9.77e-07 2.99e-11 3.38e-09 1.22e-12 8.29e-09\n",
      " 2.06e-07 6.19e-15 4.82e-07 3.38e-01 9.06e-07 8.38e-13 1.73e-13 7.63e-20\n",
      " 7.45e-02 3.77e-09 6.29e-01 1.97e-14 4.71e-01 4.18e-06 5.41e-05 4.61e-01\n",
      " 5.74e-08 1.13e-10 2.88e-09 3.57e-08 1.05e-06 4.57e-06 3.35e-20 5.95e-10\n",
      " 3.30e-01 7.05e-16 1.68e-05 7.60e-13 4.85e-12 6.46e-03 1.50e-05 1.02e-12\n",
      " 4.26e-04 3.03e-08 9.68e-13 4.10e-06 3.38e-08 1.35e-12 1.58e-04 4.97e-05\n",
      " 2.52e-15 5.21e-01 4.46e-09 1.01e-01 6.36e-09 1.59e-01 5.79e-04 1.04e-10\n",
      " 1.00e-19 8.74e-08 5.00e-01 3.61e-01 1.11e-07 3.27e-23 3.19e-08 1.00e-25\n",
      " 3.33e-15 7.70e-03 3.95e-15 2.42e-08 4.35e-08 3.89e-01 1.56e-10 1.65e-03\n",
      " 3.80e-14 2.11e-18 5.00e-01 1.50e-04 6.90e-06 5.57e-05 1.12e-14 2.67e-06\n",
      " 2.92e-07 5.35e-03 1.04e-12 1.96e-02 5.65e-07 6.35e-10 9.98e-06 1.21e-08\n",
      " 6.03e-04 3.18e-12]\n"
     ]
    }
   ],
   "source": [
    "# Run logistic regression model\n",
    "model = linear_model.LogisticRegression()\n",
    "model_logistic, probabilities, y_pred = supervised_models(model, X_train, y_train)\n",
    "print(probabilities)"
   ]
  },
  {
   "cell_type": "code",
   "execution_count": 17,
   "metadata": {},
   "outputs": [
    {
     "name": "stdout",
     "output_type": "stream",
     "text": [
      "[[110   6  19   1]\n",
      " [  1   0   0   0]\n",
      " [  9   0   6   0]\n",
      " [ 11   2   4   1]]\n"
     ]
    }
   ],
   "source": [
    "print(confusion_matrix(y_test, y_pred))"
   ]
  },
  {
   "cell_type": "code",
   "execution_count": 18,
   "metadata": {},
   "outputs": [
    {
     "name": "stdout",
     "output_type": "stream",
     "text": [
      "Confusion matrix, without normalization\n",
      "[[110   6  19   1]\n",
      " [  1   0   0   0]\n",
      " [  9   0   6   0]\n",
      " [ 11   2   4   1]]\n",
      "Normalized confusion matrix\n",
      "[[0.81 0.04 0.14 0.01]\n",
      " [1.   0.   0.   0.  ]\n",
      " [0.6  0.   0.4  0.  ]\n",
      " [0.61 0.11 0.22 0.06]]\n"
     ]
    },
    {
     "data": {
      "image/png": "[encoded data removed]",
      "text/plain": [
       "<Figure size 432x288 with 2 Axes>"
      ]
     },
     "metadata": {},
     "output_type": "display_data"
    },
    {
     "data": {
      "image/png": "[encoded data removed]",
      "text/plain": [
       "<Figure size 432x288 with 2 Axes>"
      ]
     },
     "metadata": {},
     "output_type": "display_data"
    }
   ],
   "source": [
    "np.set_printoptions(precision=2)\n",
    "\n",
    "# Plot non-normalized confusion matrix\n",
    "plot_confusion_matrix(y_test, y_pred, classes=class_labels,\n",
    "                      title='Confusion matrix, without normalization')\n",
    "\n",
    "# Plot normalized confusion matrix\n",
    "plot_confusion_matrix(y_test, y_pred, classes=class_labels, normalize=True,\n",
    "                      title='Normalized confusion matrix')\n",
    "\n",
    "plt.show()"
   ]
  },
  {
   "cell_type": "code",
   "execution_count": null,
   "metadata": {},
   "outputs": [],
   "source": [
    "# Run random forest classifier\n",
    "model = RandomForestClassifier()\n",
    "model_logistic, probabilities, y_pred = supervised_models(model, X_train, y_train)\n",
    "print(probabilities)"
   ]
  },
  {
   "cell_type": "code",
   "execution_count": null,
   "metadata": {},
   "outputs": [],
   "source": [
    "print(confusion_matrix(y_test, y_pred))"
   ]
  },
  {
   "cell_type": "code",
   "execution_count": null,
   "metadata": {},
   "outputs": [],
   "source": [
    "# Run gradient boosting classifier\n",
    "model = GradientBoostingClassifier()\n",
    "model_boosting, probabilities, y_pred = supervised_models(model, X_train, y_train)\n",
    "print(probabilities)"
   ]
  },
  {
   "cell_type": "code",
   "execution_count": null,
   "metadata": {},
   "outputs": [],
   "source": [
    "print(confusion_matrix(y_test, y_pred))"
   ]
  },
  {
   "cell_type": "code",
   "execution_count": null,
   "metadata": {},
   "outputs": [],
   "source": [
    "np.set_printoptions(precision=2)\n",
    "\n",
    "# Plot non-normalized confusion matrix\n",
    "plot_confusion_matrix(y_test, y_pred, classes=class_labels,\n",
    "                      title='Confusion matrix, without normalization')\n",
    "\n",
    "# Plot normalized confusion matrix\n",
    "plot_confusion_matrix(y_test, y_pred, classes=class_labels, normalize=True,\n",
    "                      title='Normalized confusion matrix')\n",
    "\n",
    "plt.show()"
   ]
  },
  {
   "cell_type": "code",
   "execution_count": null,
   "metadata": {},
   "outputs": [],
   "source": []
  },
  {
   "cell_type": "code",
   "execution_count": null,
   "metadata": {},
   "outputs": [],
   "source": [
    "# save the model to disk\n",
    "filename = 'finalized_model.sav'\n",
    "pickle.dump(model_boosting, open(filename, 'wb'))"
   ]
  },
  {
   "cell_type": "code",
   "execution_count": null,
   "metadata": {},
   "outputs": [],
   "source": []
  }
 ],
 "metadata": {
  "kernelspec": {
   "display_name": "Python 3",
   "language": "python",
   "name": "python3"
  },
  "language_info": {
   "codemirror_mode": {
    "name": "ipython",
    "version": 3
   },
   "file_extension": ".py",
   "mimetype": "text/x-python",
   "name": "python",
   "nbconvert_exporter": "python",
   "pygments_lexer": "ipython3",
   "version": "3.6.5"
  }
 },
 "nbformat": 4,
 "nbformat_minor": 2
}
