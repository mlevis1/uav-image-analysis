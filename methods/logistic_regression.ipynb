{
 "cells": [
  {
   "cell_type": "markdown",
   "metadata": {},
   "source": [
    "A program that reads and processes images for a Logistic Regression Model to classify as images as good, blacked-out, saturated, or blurry."
   ]
  },
  {
   "cell_type": "code",
   "execution_count": 1,
   "metadata": {},
   "outputs": [
    {
     "name": "stderr",
     "output_type": "stream",
     "text": [
      "C:\\Users\\micha\\Anaconda3\\lib\\site-packages\\sklearn\\ensemble\\weight_boosting.py:29: DeprecationWarning: numpy.core.umath_tests is an internal NumPy module and should not be imported. It will be removed in a future NumPy release.\n",
      "  from numpy.core.umath_tests import inner1d\n"
     ]
    }
   ],
   "source": [
    "import numpy as np\n",
    "import pandas as pd\n",
    "import os\n",
    "from glob import glob\n",
    "import matplotlib.pyplot as plt\n",
    "%matplotlib inline\n",
    "import cv2\n",
    "\n",
    "from sklearn.model_selection import train_test_split\n",
    "from sklearn.ensemble import RandomForestClassifier, GradientBoostingClassifier\n",
    "from sklearn import linear_model\n",
    "from sklearn import svm\n",
    "from sklearn.metrics import classification_report\n",
    "from sklearn.metrics import accuracy_score\n",
    "from sklearn.metrics import confusion_matrix\n",
    "\n",
    "import sys\n",
    "sys.path.insert(0, 'C:/Users/micha/github/uav-image-analysis/scripts/')\n",
    "import fit_models"
   ]
  },
  {
   "cell_type": "code",
   "execution_count": 2,
   "metadata": {},
   "outputs": [
    {
     "name": "stdout",
     "output_type": "stream",
     "text": [
      "(431, 327680)\n",
      "  Image Date     MEDIA Image_Name  Label Unnamed: 4\n",
      "0  2/16/2019  100MEDIA   DJI_0001      2        NaN\n",
      "1  2/16/2019  100MEDIA   DJI_0002      2        NaN\n",
      "2  2/16/2019  100MEDIA   DJI_0003      2        NaN\n",
      "3  2/16/2019  100MEDIA   DJI_0004      2        NaN\n",
      "4  2/16/2019  100MEDIA   DJI_0005      2        NaN\n",
      "(258, 327680)\n",
      "[0 0 0 0 0 0 0 0 0 2 0 0 3 0 0 0 3 0 0 0 0 0 2 0 0 2 0 0 0 0 0 0 3 2 0 0 0\n",
      " 0 2 3 0 2 0 3 0 0 2 0 0 0 0 2 0 0 3 0 0 0 0 0 0 0 0 0 3 0 0 0 0 0 0 0 3 0\n",
      " 0 0 0 1 0 0 0 0 0 2 0 0 0 0 0 0 0 0 0 0 0 1 0 0 0 0 0 0 0 0 0 0 0 0 0 0 0\n",
      " 0 0 0 0 2 1 0 0 0 0 0 0 0 0 0 0 0 0 0 2 0 0 0 0 0 0 0 0 0 0 0 0 0 0 0 3 0\n",
      " 3 0 0 1 0 0 0 0 0 0 0 0 0 1 0 0 0 0 2 0 0 0 0 0 0 0 0 0 0 2 0 3 0 0 0 0 0\n",
      " 3 0 0 0 0 0 2 2 0 0 0 0 0 0 0 0 0 0 0 0 0 0 0 0 0 0 1 0 0 2 3 0 2 0 0 0 0\n",
      " 1 0 0 0 3 3 0 0 0 0 0 0 0 0 0 0 0 3 0 0 0 2 0 0 0 0 0 0 1 2 0 0 0 0 0 0]\n"
     ]
    }
   ],
   "source": [
    "df_train = pd.read_csv('/Users/micha/ea-applications/data/test-images.csv')\n",
    "\n",
    "paths = '/Users/micha/ea-applications/data/training-test-images/Thermal/mytest/*MEDIA/'\n",
    "\n",
    "train_images, image_list = fit_models.read_images(paths)\n",
    "\n",
    "y = np.array(df_train['Label'])\n",
    "\n",
    "y = df_train['Label'].values\n",
    "\n",
    "X_train, X_test, y_train, y_test = train_test_split(train_images, y, random_state=42, test_size=0.4)\n",
    "\n",
    "print(df_train.head())\n",
    "print(X_train.shape)\n",
    "print(y_train)"
   ]
  },
  {
   "cell_type": "code",
   "execution_count": 4,
   "metadata": {},
   "outputs": [
    {
     "name": "stdout",
     "output_type": "stream",
     "text": [
      "             precision    recall  f1-score   support\n",
      "\n",
      "          0       0.80      0.77      0.79       133\n",
      "          1       0.00      0.00      0.00         8\n",
      "          2       0.14      0.29      0.19        14\n",
      "          3       0.50      0.17      0.25        18\n",
      "\n",
      "avg / total       0.68      0.64      0.65       173\n",
      "\n",
      "[4.66860526e-12 3.87050003e-10 2.22704186e-02 9.13471715e-17\n",
      " 1.08162269e-14 4.01677880e-11 2.54379284e-08 9.99999999e-01\n",
      " 1.76967908e-13 5.03222996e-01 9.97913074e-18 7.64162646e-03\n",
      " 3.95272680e-12 9.99892623e-01 8.94631889e-07 9.99991307e-01\n",
      " 3.45259351e-06 5.62380202e-15 2.49727351e-16 1.21732951e-08\n",
      " 1.32762432e-06 3.68859205e-12 4.35596183e-12 2.73281817e-07\n",
      " 6.52491941e-04 3.59730920e-24 9.32618672e-22 1.91924425e-12\n",
      " 3.67439541e-09 9.93414083e-01 3.60042360e-09 1.17212419e-11\n",
      " 2.09452303e-12 3.23159142e-09 2.02789909e-01 9.98859066e-01\n",
      " 9.99259679e-01 7.03329682e-20 8.14004329e-04 1.51888712e-02\n",
      " 4.99146915e-05 1.84663098e-24 7.43359082e-07 5.41564535e-10\n",
      " 5.30428670e-13 9.94895333e-01 8.26972235e-02 5.21791753e-11\n",
      " 1.40671024e-14 2.64752902e-16 1.37132489e-20 2.20580797e-33\n",
      " 1.36239453e-13 2.82769930e-14 7.97802082e-07 3.28306061e-14\n",
      " 4.68558649e-23 5.31775181e-08 1.79161461e-04 4.39214911e-10\n",
      " 1.25566999e-01 6.43637968e-04 3.14540862e-07 5.59768023e-14\n",
      " 1.04383472e-28 8.30709274e-14 1.66890098e-10 1.57132897e-22\n",
      " 9.74137564e-06 1.94813938e-10 1.78397374e-29 2.57245454e-17\n",
      " 7.94498005e-05 1.15303801e-07 6.35350914e-07 9.19640545e-07\n",
      " 8.41203818e-11 3.82478921e-02 3.62674336e-01 6.99177376e-04\n",
      " 2.88344338e-07 1.00246065e-12 2.25784004e-09 1.17395205e-01\n",
      " 2.79469870e-04 2.11133496e-05 4.91122358e-09 2.96468861e-01\n",
      " 9.98736216e-01 1.57390144e-11 4.30196805e-09 5.90597836e-34\n",
      " 9.82478370e-02 9.09790594e-29 2.60017810e-13 3.08765929e-06\n",
      " 2.84333908e-15 5.27352469e-08 1.19451435e-15 7.49669680e-01\n",
      " 1.14902147e-14 1.38857720e-02 3.74575996e-16 1.62913606e-09\n",
      " 2.99099323e-04 8.46654991e-12 3.72444892e-04 1.54642550e-18\n",
      " 3.75483317e-14 3.50708702e-08 1.66397933e-05 5.53121330e-05\n",
      " 9.54901389e-05 1.00000000e+00 4.73163009e-10 2.72763347e-03\n",
      " 1.79796833e-13 1.66102239e-20 4.48392366e-05 4.71738711e-10\n",
      " 3.31309880e-17 8.91092202e-21 1.78334761e-15 6.80657850e-07\n",
      " 3.55428030e-07 1.83768279e-04 3.57317709e-04 4.89904968e-07\n",
      " 2.16977079e-25 3.21124064e-03 1.50847639e-02 2.88102498e-09\n",
      " 2.16193824e-07 5.83687721e-15 3.08459737e-02 1.13113208e-28\n",
      " 4.91371433e-03 1.22470565e-25 2.60156514e-09 1.86212367e-13\n",
      " 7.31182740e-26 1.72993689e-11 7.06660800e-13 6.99067216e-17\n",
      " 2.64180889e-15 2.05065009e-16 3.20786525e-03 1.44206944e-34\n",
      " 5.14545709e-17 1.57457985e-07 9.21979042e-13 3.14032804e-22\n",
      " 9.95631274e-14 1.47827807e-30 2.46835458e-20 1.18638530e-05\n",
      " 1.45703687e-13 4.50256174e-10 6.40012099e-17 8.39846845e-07\n",
      " 1.02909841e-01 4.94754198e-22 4.89319146e-07 3.66783693e-05\n",
      " 4.20919886e-11 8.70600706e-21 3.29344130e-40 3.09635697e-17\n",
      " 6.65025773e-05 1.15678566e-08 2.72496985e-26 1.20832753e-22\n",
      " 2.28076268e-10]\n"
     ]
    }
   ],
   "source": [
    "# Run logistic regression model\n",
    "model = linear_model.LogisticRegression(multi_class='multinomial', solver='newton-cg')\n",
    "model_logistic, probabilities, y_pred = fit_models.supervised_models(model, X_train, y_train, X_test, y_test)\n",
    "print(probabilities)"
   ]
  },
  {
   "cell_type": "code",
   "execution_count": null,
   "metadata": {},
   "outputs": [],
   "source": [
    "print(confusion_matrix(y_test, y_pred))"
   ]
  },
  {
   "cell_type": "code",
   "execution_count": null,
   "metadata": {},
   "outputs": [],
   "source": [
    "class_labels=['Good', 'Blacked-Out', 'Saturated', 'Blurry']\n",
    "\n",
    "np.set_printoptions(precision=2)\n",
    "\n",
    "# Plot non-normalized confusion matrix\n",
    "#fit_models.plot_confusion_matrix(y_test, y_pred, classes=class_labels,\n",
    "                      #title='Confusion matrix, without normalization')\n",
    "\n",
    "# Plot normalized confusion matrix\n",
    "fit_models.plot_confusion_matrix(y_test, y_pred, classes=class_labels, normalize=True,\n",
    "                      title='Normalized confusion matrix')\n",
    "\n",
    "plt.show()"
   ]
  }
 ],
 "metadata": {
  "kernelspec": {
   "display_name": "Python 3",
   "language": "python",
   "name": "python3"
  },
  "language_info": {
   "codemirror_mode": {
    "name": "ipython",
    "version": 3
   },
   "file_extension": ".py",
   "mimetype": "text/x-python",
   "name": "python",
   "nbconvert_exporter": "python",
   "pygments_lexer": "ipython3",
   "version": "3.6.5"
  }
 },
 "nbformat": 4,
 "nbformat_minor": 2
}
